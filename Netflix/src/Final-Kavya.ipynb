{
 "cells": [
  {
   "cell_type": "code",
   "execution_count": 1,
   "metadata": {},
   "outputs": [
    {
     "data": {
      "text/html": [
       "\n",
       "        <div>\n",
       "            <p><b>SparkContext</b></p>\n",
       "\n",
       "            <p><a href=\"http://ip-172-31-21-244.ec2.internal:4040\">Spark UI</a></p>\n",
       "\n",
       "            <dl>\n",
       "              <dt>Version</dt>\n",
       "                <dd><code>v2.4.8-amzn-0</code></dd>\n",
       "              <dt>Master</dt>\n",
       "                <dd><code>yarn</code></dd>\n",
       "              <dt>AppName</dt>\n",
       "                <dd><code>PySparkShell</code></dd>\n",
       "            </dl>\n",
       "        </div>\n",
       "        "
      ],
      "text/plain": [
       "<SparkContext master=yarn appName=PySparkShell>"
      ]
     },
     "execution_count": 1,
     "metadata": {},
     "output_type": "execute_result"
    }
   ],
   "source": [
    "sc"
   ]
  },
  {
   "cell_type": "code",
   "execution_count": 2,
   "metadata": {},
   "outputs": [
    {
     "name": "stdout",
     "output_type": "stream",
     "text": [
      "Defaulting to user installation because normal site-packages is not writeable\n",
      "Requirement already satisfied: scikit-learn in ./.local/lib/python3.7/site-packages (1.0.1)\n",
      "Requirement already satisfied: numpy>=1.14.6 in /usr/local/lib64/python3.7/site-packages (from scikit-learn) (1.21.4)\n",
      "Requirement already satisfied: joblib>=0.11 in /usr/local/lib64/python3.7/site-packages (from scikit-learn) (1.1.0)\n",
      "Requirement already satisfied: scipy>=1.1.0 in ./.local/lib/python3.7/site-packages (from scikit-learn) (1.7.3)\n",
      "Requirement already satisfied: threadpoolctl>=2.0.0 in ./.local/lib/python3.7/site-packages (from scikit-learn) (3.0.0)\n",
      "Note: you may need to restart the kernel to use updated packages.\n"
     ]
    }
   ],
   "source": [
    "pip install scikit-learn"
   ]
  },
  {
   "cell_type": "code",
   "execution_count": 3,
   "metadata": {},
   "outputs": [
    {
     "name": "stdout",
     "output_type": "stream",
     "text": [
      "Defaulting to user installation because normal site-packages is not writeable\n",
      "Requirement already satisfied: sklearn in ./.local/lib/python3.7/site-packages (0.0)\n",
      "Requirement already satisfied: scikit-learn in ./.local/lib/python3.7/site-packages (from sklearn) (1.0.1)\n",
      "Requirement already satisfied: numpy>=1.14.6 in /usr/local/lib64/python3.7/site-packages (from scikit-learn->sklearn) (1.21.4)\n",
      "Requirement already satisfied: joblib>=0.11 in /usr/local/lib64/python3.7/site-packages (from scikit-learn->sklearn) (1.1.0)\n",
      "Requirement already satisfied: scipy>=1.1.0 in ./.local/lib/python3.7/site-packages (from scikit-learn->sklearn) (1.7.3)\n",
      "Requirement already satisfied: threadpoolctl>=2.0.0 in ./.local/lib/python3.7/site-packages (from scikit-learn->sklearn) (3.0.0)\n",
      "Note: you may need to restart the kernel to use updated packages.\n"
     ]
    }
   ],
   "source": [
    "pip install sklearn"
   ]
  },
  {
   "cell_type": "markdown",
   "metadata": {},
   "source": [
    "# Importing the Libraries"
   ]
  },
  {
   "cell_type": "code",
   "execution_count": 4,
   "metadata": {},
   "outputs": [],
   "source": [
    "import pyspark\n",
    "import sklearn\n",
    "\n",
    "from pyspark import SparkConf,SparkContext\n",
    "from pyspark.sql.functions import regexp_extract\n",
    "from pyspark.sql.types import *\n",
    "from pyspark.sql import SQLContext\n",
    "from pyspark.sql.types import *\n",
    "from pyspark.sql.functions import *\n",
    "from pyspark.sql.types import IntegerType\n",
    "from pyspark.sql import Window\n",
    "from pyspark.sql import DataFrameStatFunctions as statFunc\n",
    "\n",
    "\n",
    "import pandas as pd\n",
    "import sklearn.metrics as metrics\n",
    "import numpy as np\n",
    "from sklearn.neighbors import NearestNeighbors\n",
    "from scipy.spatial.distance import correlation\n",
    "from sklearn.metrics.pairwise import pairwise_distances\n",
    "import ipywidgets as widgets\n",
    "from IPython.display import display, clear_output\n",
    "from contextlib import contextmanager\n",
    "import warnings\n",
    "warnings.filterwarnings('ignore')\n",
    "\n",
    "from pyspark.ml.evaluation import RegressionEvaluator\n",
    "from pyspark.ml.recommendation import ALS\n",
    "from pyspark.sql import Row"
   ]
  },
  {
   "cell_type": "markdown",
   "metadata": {},
   "source": [
    "## Creating a spark session"
   ]
  },
  {
   "cell_type": "code",
   "execution_count": 5,
   "metadata": {},
   "outputs": [],
   "source": [
    "from pyspark.sql import SparkSession\n",
    "spark = SparkSession.builder.appName('MOVIE RECOMMENDATION BY COLLABORATIVE FILTERING USING THE NETFLIX DATA').getOrCreate()"
   ]
  },
  {
   "cell_type": "markdown",
   "metadata": {},
   "source": [
    "## Creating the three dataframes for training, testing and movie data sets"
   ]
  },
  {
   "cell_type": "code",
   "execution_count": 6,
   "metadata": {},
   "outputs": [],
   "source": [
    "from pyspark.sql.types import *\n",
    "\n",
    "movies_df = StructType(\n",
    "  [StructField('movieId', IntegerType()),\n",
    "   StructField('yearOfRelease', IntegerType()),\n",
    "   StructField('title', StringType())]\n",
    ")\n",
    "Training_df = StructType(\n",
    "  [StructField('movieId', IntegerType()),\n",
    "   StructField('userId', IntegerType()),\n",
    "   StructField('ratings',DoubleType())]\n",
    ")\n",
    "\n",
    "Testing_df = StructType(\n",
    "  [StructField('movieId', IntegerType()),\n",
    "   StructField('userId', IntegerType()),\n",
    "   StructField('ratings',DoubleType())]\n",
    ")"
   ]
  },
  {
   "cell_type": "code",
   "execution_count": 7,
   "metadata": {},
   "outputs": [],
   "source": [
    "#Creating the training,testing and movie dataframes\n",
    "\n",
    "df_training = sqlContext.read.format('txt').options(inferSchema=True).schema(Training_df).csv('s3://dsci-6007-finalbucket/TrainingRatings.txt')\n",
    " \n",
    "df_testing = sqlContext.read.format('txt').options(inferSchema=True).schema(Testing_df).csv('s3://dsci-6007-finalbucket/TestingRatings.txt')\n",
    " \n",
    "df_movies = sqlContext.read.format('txt').options(inferSchema=True).schema(movies_df).csv('s3://dsci-6007-finalbucket/movie_titles.txt')\n",
    " "
   ]
  },
  {
   "cell_type": "code",
   "execution_count": 8,
   "metadata": {},
   "outputs": [
    {
     "name": "stderr",
     "output_type": "stream",
     "text": [
      "                                                                                \r"
     ]
    }
   ],
   "source": [
    "#Count of each dataframes    \n",
    "\n",
    "training_count = df_training.count()\n",
    "testing_count = df_testing.count()\n",
    "movies_count = df_movies.count()"
   ]
  },
  {
   "cell_type": "code",
   "execution_count": 9,
   "metadata": {},
   "outputs": [
    {
     "name": "stdout",
     "output_type": "stream",
     "text": [
      "There are 3255352 samples in training set , 100478 samples in testing set and 17770 samples in movies in the datasets\n",
      "Training samples:\n",
      "+-------+-------+-------+\n",
      "|movieId| userId|ratings|\n",
      "+-------+-------+-------+\n",
      "|      8|1744889|    1.0|\n",
      "|      8|1395430|    2.0|\n",
      "|      8|1205593|    4.0|\n",
      "|      8|1488844|    4.0|\n",
      "|      8|1447354|    1.0|\n",
      "+-------+-------+-------+\n",
      "only showing top 5 rows\n",
      "\n",
      "Testing samples:\n",
      "+-------+-------+-------+\n",
      "|movieId| userId|ratings|\n",
      "+-------+-------+-------+\n",
      "|      8| 573364|    1.0|\n",
      "|      8|2149668|    3.0|\n",
      "|      8|1089184|    3.0|\n",
      "|      8|2465894|    3.0|\n",
      "|      8| 534508|    1.0|\n",
      "+-------+-------+-------+\n",
      "only showing top 5 rows\n",
      "\n",
      "Movies samples:\n",
      "+-------+-------------+----------------------------+\n",
      "|movieId|yearOfRelease|title                       |\n",
      "+-------+-------------+----------------------------+\n",
      "|1      |2003         |Dinosaur Planet             |\n",
      "|2      |2004         |Isle of Man TT 2004 Review  |\n",
      "|3      |1997         |Character                   |\n",
      "|4      |1994         |Paula Abdul's Get Up & Dance|\n",
      "|5      |2004         |The Rise and Fall of ECW    |\n",
      "+-------+-------------+----------------------------+\n",
      "only showing top 5 rows\n",
      "\n"
     ]
    }
   ],
   "source": [
    "#Printing the data and count\n",
    "print('There are %s samples in training set , %s samples in testing set and %s samples in movies in the datasets' % (training_count,testing_count, movies_count))\n",
    "print('Training samples:')\n",
    "df_training.show(5)\n",
    "print('Testing samples:')\n",
    "df_testing.show(5)\n",
    "print('Movies samples:')\n",
    "df_movies.show(5,truncate=False)"
   ]
  },
  {
   "cell_type": "markdown",
   "metadata": {},
   "source": [
    "## HOW MANY DISTINCT USERS AND DISTINCT ITEMS ARE THERE IN THE TEST SET ?"
   ]
  },
  {
   "cell_type": "code",
   "execution_count": 10,
   "metadata": {},
   "outputs": [
    {
     "name": "stderr",
     "output_type": "stream",
     "text": [
      "[Stage 12:>                                                         (0 + 1) / 1]21/12/15 16:49:01 WARN Utils: Truncated the string representation of a plan since it was too large. This behavior can be adjusted by setting 'spark.debug.maxToStringFields' in SparkEnv.conf.\n",
      "                                                                                \r"
     ]
    },
    {
     "name": "stdout",
     "output_type": "stream",
     "text": [
      "The distinct items in testing set are : 1701\n"
     ]
    },
    {
     "name": "stderr",
     "output_type": "stream",
     "text": [
      "[Stage 18:>                                                         (0 + 1) / 1]"
     ]
    },
    {
     "name": "stdout",
     "output_type": "stream",
     "text": [
      "The distinct users in testing set are : 27555\n"
     ]
    },
    {
     "name": "stderr",
     "output_type": "stream",
     "text": [
      "                                                                                \r"
     ]
    }
   ],
   "source": [
    "#finding out the distinct users and items/movies in the testing set\n",
    "\n",
    "print(\"The distinct items in testing set are :\",df_testing.select('movieID').distinct().count())\n",
    "print(\"The distinct users in testing set are :\",df_testing.select('userID').distinct().count())\n"
   ]
  },
  {
   "cell_type": "code",
   "execution_count": 11,
   "metadata": {},
   "outputs": [
    {
     "name": "stderr",
     "output_type": "stream",
     "text": [
      "                                                                                \r"
     ]
    },
    {
     "name": "stdout",
     "output_type": "stream",
     "text": [
      "The distinct items in training set are : 1821\n"
     ]
    },
    {
     "name": "stderr",
     "output_type": "stream",
     "text": [
      "[Stage 30:===========================================>              (3 + 1) / 4]"
     ]
    },
    {
     "name": "stdout",
     "output_type": "stream",
     "text": [
      "The distinct users in training set are : 28978\n"
     ]
    },
    {
     "name": "stderr",
     "output_type": "stream",
     "text": [
      "                                                                                \r"
     ]
    }
   ],
   "source": [
    "#finding out the distinct users and items(movies) in the training set \n",
    "\n",
    "print(\"The distinct items in training set are :\",df_training.select('movieID').distinct().count())\n",
    "print(\"The distinct users in training set are :\",df_training.select('userID').distinct().count())"
   ]
  },
  {
   "cell_type": "markdown",
   "metadata": {},
   "source": [
    "# Finding Overall Rates for Users and Movies in both the sets \n",
    "\n",
    "## Some Initial analysis on training and testing sets "
   ]
  },
  {
   "cell_type": "code",
   "execution_count": 12,
   "metadata": {},
   "outputs": [
    {
     "name": "stderr",
     "output_type": "stream",
     "text": [
      "                                                                                \r"
     ]
    }
   ],
   "source": [
    "#lets convert to a Pandas Dataframe \n",
    "\n",
    "training_pd = df_training.toPandas()\n",
    "\n",
    "testing_pd = df_testing.toPandas()\n"
   ]
  },
  {
   "cell_type": "code",
   "execution_count": 13,
   "metadata": {},
   "outputs": [
    {
     "data": {
      "text/html": [
       "<div>\n",
       "<style scoped>\n",
       "    .dataframe tbody tr th:only-of-type {\n",
       "        vertical-align: middle;\n",
       "    }\n",
       "\n",
       "    .dataframe tbody tr th {\n",
       "        vertical-align: top;\n",
       "    }\n",
       "\n",
       "    .dataframe thead th {\n",
       "        text-align: right;\n",
       "    }\n",
       "</style>\n",
       "<table border=\"1\" class=\"dataframe\">\n",
       "  <thead>\n",
       "    <tr style=\"text-align: right;\">\n",
       "      <th></th>\n",
       "      <th>movieId</th>\n",
       "      <th>userId</th>\n",
       "      <th>ratings</th>\n",
       "    </tr>\n",
       "  </thead>\n",
       "  <tbody>\n",
       "    <tr>\n",
       "      <th>count</th>\n",
       "      <td>3.255352e+06</td>\n",
       "      <td>3.255352e+06</td>\n",
       "      <td>3.255352e+06</td>\n",
       "    </tr>\n",
       "    <tr>\n",
       "      <th>mean</th>\n",
       "      <td>8.724660e+03</td>\n",
       "      <td>1.327058e+06</td>\n",
       "      <td>3.481188e+00</td>\n",
       "    </tr>\n",
       "    <tr>\n",
       "      <th>std</th>\n",
       "      <td>5.107402e+03</td>\n",
       "      <td>7.626887e+05</td>\n",
       "      <td>1.082873e+00</td>\n",
       "    </tr>\n",
       "    <tr>\n",
       "      <th>min</th>\n",
       "      <td>8.000000e+00</td>\n",
       "      <td>7.000000e+00</td>\n",
       "      <td>1.000000e+00</td>\n",
       "    </tr>\n",
       "    <tr>\n",
       "      <th>25%</th>\n",
       "      <td>3.893000e+03</td>\n",
       "      <td>6.716970e+05</td>\n",
       "      <td>3.000000e+00</td>\n",
       "    </tr>\n",
       "    <tr>\n",
       "      <th>50%</th>\n",
       "      <td>8.825000e+03</td>\n",
       "      <td>1.322467e+06</td>\n",
       "      <td>4.000000e+00</td>\n",
       "    </tr>\n",
       "    <tr>\n",
       "      <th>75%</th>\n",
       "      <td>1.332600e+04</td>\n",
       "      <td>1.988873e+06</td>\n",
       "      <td>4.000000e+00</td>\n",
       "    </tr>\n",
       "    <tr>\n",
       "      <th>max</th>\n",
       "      <td>1.774200e+04</td>\n",
       "      <td>2.649285e+06</td>\n",
       "      <td>5.000000e+00</td>\n",
       "    </tr>\n",
       "  </tbody>\n",
       "</table>\n",
       "</div>"
      ],
      "text/plain": [
       "            movieId        userId       ratings\n",
       "count  3.255352e+06  3.255352e+06  3.255352e+06\n",
       "mean   8.724660e+03  1.327058e+06  3.481188e+00\n",
       "std    5.107402e+03  7.626887e+05  1.082873e+00\n",
       "min    8.000000e+00  7.000000e+00  1.000000e+00\n",
       "25%    3.893000e+03  6.716970e+05  3.000000e+00\n",
       "50%    8.825000e+03  1.322467e+06  4.000000e+00\n",
       "75%    1.332600e+04  1.988873e+06  4.000000e+00\n",
       "max    1.774200e+04  2.649285e+06  5.000000e+00"
      ]
     },
     "execution_count": 13,
     "metadata": {},
     "output_type": "execute_result"
    }
   ],
   "source": [
    "#describing the training dataset \n",
    "\n",
    "training_pd.describe()"
   ]
  },
  {
   "cell_type": "code",
   "execution_count": 14,
   "metadata": {},
   "outputs": [
    {
     "data": {
      "text/html": [
       "<div>\n",
       "<style scoped>\n",
       "    .dataframe tbody tr th:only-of-type {\n",
       "        vertical-align: middle;\n",
       "    }\n",
       "\n",
       "    .dataframe tbody tr th {\n",
       "        vertical-align: top;\n",
       "    }\n",
       "\n",
       "    .dataframe thead th {\n",
       "        text-align: right;\n",
       "    }\n",
       "</style>\n",
       "<table border=\"1\" class=\"dataframe\">\n",
       "  <thead>\n",
       "    <tr style=\"text-align: right;\">\n",
       "      <th></th>\n",
       "      <th>movieId</th>\n",
       "      <th>userId</th>\n",
       "      <th>ratings</th>\n",
       "    </tr>\n",
       "  </thead>\n",
       "  <tbody>\n",
       "    <tr>\n",
       "      <th>count</th>\n",
       "      <td>100478.000000</td>\n",
       "      <td>1.004780e+05</td>\n",
       "      <td>100478.000000</td>\n",
       "    </tr>\n",
       "    <tr>\n",
       "      <th>mean</th>\n",
       "      <td>8701.547792</td>\n",
       "      <td>1.329956e+06</td>\n",
       "      <td>3.479458</td>\n",
       "    </tr>\n",
       "    <tr>\n",
       "      <th>std</th>\n",
       "      <td>5098.075495</td>\n",
       "      <td>7.625041e+05</td>\n",
       "      <td>1.085280</td>\n",
       "    </tr>\n",
       "    <tr>\n",
       "      <th>min</th>\n",
       "      <td>8.000000</td>\n",
       "      <td>7.000000e+00</td>\n",
       "      <td>1.000000</td>\n",
       "    </tr>\n",
       "    <tr>\n",
       "      <th>25%</th>\n",
       "      <td>3893.000000</td>\n",
       "      <td>6.774300e+05</td>\n",
       "      <td>3.000000</td>\n",
       "    </tr>\n",
       "    <tr>\n",
       "      <th>50%</th>\n",
       "      <td>8699.000000</td>\n",
       "      <td>1.325031e+06</td>\n",
       "      <td>4.000000</td>\n",
       "    </tr>\n",
       "    <tr>\n",
       "      <th>75%</th>\n",
       "      <td>13298.000000</td>\n",
       "      <td>1.995052e+06</td>\n",
       "      <td>4.000000</td>\n",
       "    </tr>\n",
       "    <tr>\n",
       "      <th>max</th>\n",
       "      <td>17742.000000</td>\n",
       "      <td>2.649285e+06</td>\n",
       "      <td>5.000000</td>\n",
       "    </tr>\n",
       "  </tbody>\n",
       "</table>\n",
       "</div>"
      ],
      "text/plain": [
       "             movieId        userId        ratings\n",
       "count  100478.000000  1.004780e+05  100478.000000\n",
       "mean     8701.547792  1.329956e+06       3.479458\n",
       "std      5098.075495  7.625041e+05       1.085280\n",
       "min         8.000000  7.000000e+00       1.000000\n",
       "25%      3893.000000  6.774300e+05       3.000000\n",
       "50%      8699.000000  1.325031e+06       4.000000\n",
       "75%     13298.000000  1.995052e+06       4.000000\n",
       "max     17742.000000  2.649285e+06       5.000000"
      ]
     },
     "execution_count": 14,
     "metadata": {},
     "output_type": "execute_result"
    }
   ],
   "source": [
    "#describing the testing dataset\n",
    "testing_pd.describe()"
   ]
  },
  {
   "cell_type": "code",
   "execution_count": 15,
   "metadata": {},
   "outputs": [
    {
     "data": {
      "text/html": [
       "<div>\n",
       "<style scoped>\n",
       "    .dataframe tbody tr th:only-of-type {\n",
       "        vertical-align: middle;\n",
       "    }\n",
       "\n",
       "    .dataframe tbody tr th {\n",
       "        vertical-align: top;\n",
       "    }\n",
       "\n",
       "    .dataframe thead th {\n",
       "        text-align: right;\n",
       "    }\n",
       "</style>\n",
       "<table border=\"1\" class=\"dataframe\">\n",
       "  <thead>\n",
       "    <tr style=\"text-align: right;\">\n",
       "      <th></th>\n",
       "      <th>movieId</th>\n",
       "      <th>userId</th>\n",
       "      <th>ratings</th>\n",
       "    </tr>\n",
       "  </thead>\n",
       "  <tbody>\n",
       "    <tr>\n",
       "      <th>3255347</th>\n",
       "      <td>17742</td>\n",
       "      <td>46222</td>\n",
       "      <td>3.0</td>\n",
       "    </tr>\n",
       "    <tr>\n",
       "      <th>3255348</th>\n",
       "      <td>17742</td>\n",
       "      <td>2534701</td>\n",
       "      <td>1.0</td>\n",
       "    </tr>\n",
       "    <tr>\n",
       "      <th>3255349</th>\n",
       "      <td>17742</td>\n",
       "      <td>208724</td>\n",
       "      <td>3.0</td>\n",
       "    </tr>\n",
       "    <tr>\n",
       "      <th>3255350</th>\n",
       "      <td>17742</td>\n",
       "      <td>483107</td>\n",
       "      <td>2.0</td>\n",
       "    </tr>\n",
       "    <tr>\n",
       "      <th>3255351</th>\n",
       "      <td>17742</td>\n",
       "      <td>1181331</td>\n",
       "      <td>2.0</td>\n",
       "    </tr>\n",
       "  </tbody>\n",
       "</table>\n",
       "</div>"
      ],
      "text/plain": [
       "         movieId   userId  ratings\n",
       "3255347    17742    46222      3.0\n",
       "3255348    17742  2534701      1.0\n",
       "3255349    17742   208724      3.0\n",
       "3255350    17742   483107      2.0\n",
       "3255351    17742  1181331      2.0"
      ]
     },
     "execution_count": 15,
     "metadata": {},
     "output_type": "execute_result"
    }
   ],
   "source": [
    "training_pd.tail()"
   ]
  },
  {
   "cell_type": "code",
   "execution_count": 16,
   "metadata": {},
   "outputs": [
    {
     "data": {
      "text/html": [
       "<div>\n",
       "<style scoped>\n",
       "    .dataframe tbody tr th:only-of-type {\n",
       "        vertical-align: middle;\n",
       "    }\n",
       "\n",
       "    .dataframe tbody tr th {\n",
       "        vertical-align: top;\n",
       "    }\n",
       "\n",
       "    .dataframe thead th {\n",
       "        text-align: right;\n",
       "    }\n",
       "</style>\n",
       "<table border=\"1\" class=\"dataframe\">\n",
       "  <thead>\n",
       "    <tr style=\"text-align: right;\">\n",
       "      <th></th>\n",
       "      <th>movieId</th>\n",
       "      <th>userId</th>\n",
       "      <th>ratings</th>\n",
       "    </tr>\n",
       "  </thead>\n",
       "  <tbody>\n",
       "    <tr>\n",
       "      <th>100473</th>\n",
       "      <td>17742</td>\n",
       "      <td>1898310</td>\n",
       "      <td>2.0</td>\n",
       "    </tr>\n",
       "    <tr>\n",
       "      <th>100474</th>\n",
       "      <td>17742</td>\n",
       "      <td>716096</td>\n",
       "      <td>4.0</td>\n",
       "    </tr>\n",
       "    <tr>\n",
       "      <th>100475</th>\n",
       "      <td>17742</td>\n",
       "      <td>38115</td>\n",
       "      <td>3.0</td>\n",
       "    </tr>\n",
       "    <tr>\n",
       "      <th>100476</th>\n",
       "      <td>17742</td>\n",
       "      <td>2646347</td>\n",
       "      <td>5.0</td>\n",
       "    </tr>\n",
       "    <tr>\n",
       "      <th>100477</th>\n",
       "      <td>17742</td>\n",
       "      <td>273576</td>\n",
       "      <td>2.0</td>\n",
       "    </tr>\n",
       "  </tbody>\n",
       "</table>\n",
       "</div>"
      ],
      "text/plain": [
       "        movieId   userId  ratings\n",
       "100473    17742  1898310      2.0\n",
       "100474    17742   716096      4.0\n",
       "100475    17742    38115      3.0\n",
       "100476    17742  2646347      5.0\n",
       "100477    17742   273576      2.0"
      ]
     },
     "execution_count": 16,
     "metadata": {},
     "output_type": "execute_result"
    }
   ],
   "source": [
    "testing_pd.tail()"
   ]
  },
  {
   "cell_type": "markdown",
   "metadata": {},
   "source": [
    "## Testing for null values in both the sets"
   ]
  },
  {
   "cell_type": "code",
   "execution_count": 17,
   "metadata": {},
   "outputs": [
    {
     "data": {
      "text/plain": [
       "movieId    0\n",
       "userId     0\n",
       "ratings    0\n",
       "dtype: int64"
      ]
     },
     "execution_count": 17,
     "metadata": {},
     "output_type": "execute_result"
    }
   ],
   "source": [
    "training_pd.isnull().sum()"
   ]
  },
  {
   "cell_type": "code",
   "execution_count": 18,
   "metadata": {},
   "outputs": [
    {
     "data": {
      "text/plain": [
       "movieId    0\n",
       "userId     0\n",
       "ratings    0\n",
       "dtype: int64"
      ]
     },
     "execution_count": 18,
     "metadata": {},
     "output_type": "execute_result"
    }
   ],
   "source": [
    "testing_pd.isnull().sum()"
   ]
  },
  {
   "cell_type": "code",
   "execution_count": 19,
   "metadata": {},
   "outputs": [
    {
     "name": "stdout",
     "output_type": "stream",
     "text": [
      "The counts of both the dataframes are  Training dataset ==>  3255352 Testing dataset ==> 100478\n"
     ]
    }
   ],
   "source": [
    "print(\"The counts of both the dataframes are \",\"Training dataset ==> \",len(training_pd),\"Testing dataset ==>\",len(testing_pd))"
   ]
  },
  {
   "cell_type": "markdown",
   "metadata": {},
   "source": [
    "# Average Movie Ratings"
   ]
  },
  {
   "cell_type": "code",
   "execution_count": 20,
   "metadata": {},
   "outputs": [
    {
     "data": {
      "text/html": [
       "<div>\n",
       "<style scoped>\n",
       "    .dataframe tbody tr th:only-of-type {\n",
       "        vertical-align: middle;\n",
       "    }\n",
       "\n",
       "    .dataframe tbody tr th {\n",
       "        vertical-align: top;\n",
       "    }\n",
       "\n",
       "    .dataframe thead th {\n",
       "        text-align: right;\n",
       "    }\n",
       "</style>\n",
       "<table border=\"1\" class=\"dataframe\">\n",
       "  <thead>\n",
       "    <tr style=\"text-align: right;\">\n",
       "      <th></th>\n",
       "      <th>ratings</th>\n",
       "      <th>counts</th>\n",
       "    </tr>\n",
       "    <tr>\n",
       "      <th>movieId</th>\n",
       "      <th></th>\n",
       "      <th></th>\n",
       "    </tr>\n",
       "  </thead>\n",
       "  <tbody>\n",
       "    <tr>\n",
       "      <th>8</th>\n",
       "      <td>3.055104</td>\n",
       "      <td>2831</td>\n",
       "    </tr>\n",
       "    <tr>\n",
       "      <th>28</th>\n",
       "      <td>3.760127</td>\n",
       "      <td>12244</td>\n",
       "    </tr>\n",
       "    <tr>\n",
       "      <th>43</th>\n",
       "      <td>2.310345</td>\n",
       "      <td>58</td>\n",
       "    </tr>\n",
       "    <tr>\n",
       "      <th>48</th>\n",
       "      <td>3.620648</td>\n",
       "      <td>1666</td>\n",
       "    </tr>\n",
       "    <tr>\n",
       "      <th>61</th>\n",
       "      <td>2.385965</td>\n",
       "      <td>57</td>\n",
       "    </tr>\n",
       "  </tbody>\n",
       "</table>\n",
       "</div>"
      ],
      "text/plain": [
       "          ratings  counts\n",
       "movieId                  \n",
       "8        3.055104    2831\n",
       "28       3.760127   12244\n",
       "43       2.310345      58\n",
       "48       3.620648    1666\n",
       "61       2.385965      57"
      ]
     },
     "execution_count": 20,
     "metadata": {},
     "output_type": "execute_result"
    }
   ],
   "source": [
    "#checking overall average rate of the movies with their counts  in the training set\n",
    "\n",
    "averageMovieRatingsTraining = pd.DataFrame(training_pd.groupby('movieId')['ratings'].mean())\n",
    "\n",
    "averageMovieRatingsTraining['counts'] =pd.DataFrame(training_pd.groupby('movieId')['ratings'].count())\n",
    "\n",
    "averageMovieRatingsTraining.head()"
   ]
  },
  {
   "cell_type": "code",
   "execution_count": 21,
   "metadata": {},
   "outputs": [
    {
     "data": {
      "text/html": [
       "<div>\n",
       "<style scoped>\n",
       "    .dataframe tbody tr th:only-of-type {\n",
       "        vertical-align: middle;\n",
       "    }\n",
       "\n",
       "    .dataframe tbody tr th {\n",
       "        vertical-align: top;\n",
       "    }\n",
       "\n",
       "    .dataframe thead th {\n",
       "        text-align: right;\n",
       "    }\n",
       "</style>\n",
       "<table border=\"1\" class=\"dataframe\">\n",
       "  <thead>\n",
       "    <tr style=\"text-align: right;\">\n",
       "      <th></th>\n",
       "      <th>ratings</th>\n",
       "      <th>counts</th>\n",
       "    </tr>\n",
       "    <tr>\n",
       "      <th>movieId</th>\n",
       "      <th></th>\n",
       "      <th></th>\n",
       "    </tr>\n",
       "  </thead>\n",
       "  <tbody>\n",
       "    <tr>\n",
       "      <th>8</th>\n",
       "      <td>3.072917</td>\n",
       "      <td>96</td>\n",
       "    </tr>\n",
       "    <tr>\n",
       "      <th>28</th>\n",
       "      <td>3.698667</td>\n",
       "      <td>375</td>\n",
       "    </tr>\n",
       "    <tr>\n",
       "      <th>43</th>\n",
       "      <td>4.000000</td>\n",
       "      <td>1</td>\n",
       "    </tr>\n",
       "    <tr>\n",
       "      <th>48</th>\n",
       "      <td>3.622642</td>\n",
       "      <td>53</td>\n",
       "    </tr>\n",
       "    <tr>\n",
       "      <th>61</th>\n",
       "      <td>4.000000</td>\n",
       "      <td>3</td>\n",
       "    </tr>\n",
       "  </tbody>\n",
       "</table>\n",
       "</div>"
      ],
      "text/plain": [
       "          ratings  counts\n",
       "movieId                  \n",
       "8        3.072917      96\n",
       "28       3.698667     375\n",
       "43       4.000000       1\n",
       "48       3.622642      53\n",
       "61       4.000000       3"
      ]
     },
     "execution_count": 21,
     "metadata": {},
     "output_type": "execute_result"
    }
   ],
   "source": [
    "#checking overall average rate of the movies with their counts  in the testing set\n",
    "\n",
    "averageMovieRatingsTesting = pd.DataFrame(testing_pd.groupby('movieId')['ratings'].mean())\n",
    "\n",
    "averageMovieRatingsTesting['counts'] =pd.DataFrame(testing_pd.groupby('movieId')['ratings'].count())\n",
    "\n",
    "averageMovieRatingsTesting.head()"
   ]
  },
  {
   "cell_type": "code",
   "execution_count": 22,
   "metadata": {},
   "outputs": [
    {
     "data": {
      "text/html": [
       "<div>\n",
       "<style scoped>\n",
       "    .dataframe tbody tr th:only-of-type {\n",
       "        vertical-align: middle;\n",
       "    }\n",
       "\n",
       "    .dataframe tbody tr th {\n",
       "        vertical-align: top;\n",
       "    }\n",
       "\n",
       "    .dataframe thead th {\n",
       "        text-align: right;\n",
       "    }\n",
       "</style>\n",
       "<table border=\"1\" class=\"dataframe\">\n",
       "  <thead>\n",
       "    <tr style=\"text-align: right;\">\n",
       "      <th></th>\n",
       "      <th>ratings</th>\n",
       "      <th>counts</th>\n",
       "    </tr>\n",
       "    <tr>\n",
       "      <th>movieId</th>\n",
       "      <th></th>\n",
       "      <th></th>\n",
       "    </tr>\n",
       "  </thead>\n",
       "  <tbody>\n",
       "    <tr>\n",
       "      <th>6971</th>\n",
       "      <td>4.123305</td>\n",
       "      <td>811</td>\n",
       "    </tr>\n",
       "    <tr>\n",
       "      <th>4640</th>\n",
       "      <td>4.006614</td>\n",
       "      <td>756</td>\n",
       "    </tr>\n",
       "    <tr>\n",
       "      <th>6287</th>\n",
       "      <td>3.716418</td>\n",
       "      <td>737</td>\n",
       "    </tr>\n",
       "    <tr>\n",
       "      <th>9728</th>\n",
       "      <td>3.807365</td>\n",
       "      <td>706</td>\n",
       "    </tr>\n",
       "    <tr>\n",
       "      <th>8915</th>\n",
       "      <td>4.007194</td>\n",
       "      <td>695</td>\n",
       "    </tr>\n",
       "    <tr>\n",
       "      <th>4432</th>\n",
       "      <td>3.674855</td>\n",
       "      <td>692</td>\n",
       "    </tr>\n",
       "    <tr>\n",
       "      <th>8596</th>\n",
       "      <td>4.091172</td>\n",
       "      <td>691</td>\n",
       "    </tr>\n",
       "    <tr>\n",
       "      <th>6408</th>\n",
       "      <td>3.876471</td>\n",
       "      <td>680</td>\n",
       "    </tr>\n",
       "    <tr>\n",
       "      <th>1406</th>\n",
       "      <td>3.233129</td>\n",
       "      <td>652</td>\n",
       "    </tr>\n",
       "    <tr>\n",
       "      <th>1744</th>\n",
       "      <td>3.752308</td>\n",
       "      <td>650</td>\n",
       "    </tr>\n",
       "  </tbody>\n",
       "</table>\n",
       "</div>"
      ],
      "text/plain": [
       "          ratings  counts\n",
       "movieId                  \n",
       "6971     4.123305     811\n",
       "4640     4.006614     756\n",
       "6287     3.716418     737\n",
       "9728     3.807365     706\n",
       "8915     4.007194     695\n",
       "4432     3.674855     692\n",
       "8596     4.091172     691\n",
       "6408     3.876471     680\n",
       "1406     3.233129     652\n",
       "1744     3.752308     650"
      ]
     },
     "execution_count": 22,
     "metadata": {},
     "output_type": "execute_result"
    }
   ],
   "source": [
    "averageMovieRatingsTesting.sort_values(by=['counts'],ascending=False).head(10)"
   ]
  },
  {
   "cell_type": "markdown",
   "metadata": {},
   "source": [
    "# Average User Ratings"
   ]
  },
  {
   "cell_type": "code",
   "execution_count": 23,
   "metadata": {},
   "outputs": [
    {
     "data": {
      "text/html": [
       "<div>\n",
       "<style scoped>\n",
       "    .dataframe tbody tr th:only-of-type {\n",
       "        vertical-align: middle;\n",
       "    }\n",
       "\n",
       "    .dataframe tbody tr th {\n",
       "        vertical-align: top;\n",
       "    }\n",
       "\n",
       "    .dataframe thead th {\n",
       "        text-align: right;\n",
       "    }\n",
       "</style>\n",
       "<table border=\"1\" class=\"dataframe\">\n",
       "  <thead>\n",
       "    <tr style=\"text-align: right;\">\n",
       "      <th></th>\n",
       "      <th>ratings</th>\n",
       "      <th>counts</th>\n",
       "    </tr>\n",
       "    <tr>\n",
       "      <th>userId</th>\n",
       "      <th></th>\n",
       "      <th></th>\n",
       "    </tr>\n",
       "  </thead>\n",
       "  <tbody>\n",
       "    <tr>\n",
       "      <th>7</th>\n",
       "      <td>3.903846</td>\n",
       "      <td>104</td>\n",
       "    </tr>\n",
       "    <tr>\n",
       "      <th>79</th>\n",
       "      <td>3.630952</td>\n",
       "      <td>84</td>\n",
       "    </tr>\n",
       "    <tr>\n",
       "      <th>199</th>\n",
       "      <td>3.943662</td>\n",
       "      <td>71</td>\n",
       "    </tr>\n",
       "    <tr>\n",
       "      <th>481</th>\n",
       "      <td>4.351351</td>\n",
       "      <td>74</td>\n",
       "    </tr>\n",
       "    <tr>\n",
       "      <th>769</th>\n",
       "      <td>3.193878</td>\n",
       "      <td>98</td>\n",
       "    </tr>\n",
       "  </tbody>\n",
       "</table>\n",
       "</div>"
      ],
      "text/plain": [
       "         ratings  counts\n",
       "userId                  \n",
       "7       3.903846     104\n",
       "79      3.630952      84\n",
       "199     3.943662      71\n",
       "481     4.351351      74\n",
       "769     3.193878      98"
      ]
     },
     "execution_count": 23,
     "metadata": {},
     "output_type": "execute_result"
    }
   ],
   "source": [
    "#checking overall average rate of the user with their counts  in the training set\n",
    "\n",
    "averageUserRatingsTraining = pd.DataFrame(training_pd.groupby('userId')['ratings'].mean())\n",
    "\n",
    "averageUserRatingsTraining['counts'] =pd.DataFrame(training_pd.groupby('userId')['ratings'].count())\n",
    "\n",
    "averageUserRatingsTraining.head()"
   ]
  },
  {
   "cell_type": "code",
   "execution_count": 24,
   "metadata": {},
   "outputs": [
    {
     "data": {
      "text/html": [
       "<div>\n",
       "<style scoped>\n",
       "    .dataframe tbody tr th:only-of-type {\n",
       "        vertical-align: middle;\n",
       "    }\n",
       "\n",
       "    .dataframe tbody tr th {\n",
       "        vertical-align: top;\n",
       "    }\n",
       "\n",
       "    .dataframe thead th {\n",
       "        text-align: right;\n",
       "    }\n",
       "</style>\n",
       "<table border=\"1\" class=\"dataframe\">\n",
       "  <thead>\n",
       "    <tr style=\"text-align: right;\">\n",
       "      <th></th>\n",
       "      <th>ratings</th>\n",
       "      <th>counts</th>\n",
       "    </tr>\n",
       "    <tr>\n",
       "      <th>userId</th>\n",
       "      <th></th>\n",
       "      <th></th>\n",
       "    </tr>\n",
       "  </thead>\n",
       "  <tbody>\n",
       "    <tr>\n",
       "      <th>2648869</th>\n",
       "      <td>2.777778</td>\n",
       "      <td>9</td>\n",
       "    </tr>\n",
       "    <tr>\n",
       "      <th>2648885</th>\n",
       "      <td>4.000000</td>\n",
       "      <td>5</td>\n",
       "    </tr>\n",
       "    <tr>\n",
       "      <th>2649120</th>\n",
       "      <td>5.000000</td>\n",
       "      <td>2</td>\n",
       "    </tr>\n",
       "    <tr>\n",
       "      <th>2649267</th>\n",
       "      <td>4.142857</td>\n",
       "      <td>7</td>\n",
       "    </tr>\n",
       "    <tr>\n",
       "      <th>2649285</th>\n",
       "      <td>2.333333</td>\n",
       "      <td>3</td>\n",
       "    </tr>\n",
       "  </tbody>\n",
       "</table>\n",
       "</div>"
      ],
      "text/plain": [
       "          ratings  counts\n",
       "userId                   \n",
       "2648869  2.777778       9\n",
       "2648885  4.000000       5\n",
       "2649120  5.000000       2\n",
       "2649267  4.142857       7\n",
       "2649285  2.333333       3"
      ]
     },
     "execution_count": 24,
     "metadata": {},
     "output_type": "execute_result"
    }
   ],
   "source": [
    "#checking overall average rate of the user with their counts  in the testing set\n",
    "\n",
    "averageUserRatingsTesting = pd.DataFrame(testing_pd.groupby('userId')['ratings'].mean())\n",
    "\n",
    "averageUserRatingsTesting['counts'] =pd.DataFrame(testing_pd.groupby('userId')['ratings'].count())\n",
    "\n",
    "averageUserRatingsTesting.tail()"
   ]
  },
  {
   "cell_type": "code",
   "execution_count": 25,
   "metadata": {},
   "outputs": [
    {
     "data": {
      "text/html": [
       "<div>\n",
       "<style scoped>\n",
       "    .dataframe tbody tr th:only-of-type {\n",
       "        vertical-align: middle;\n",
       "    }\n",
       "\n",
       "    .dataframe tbody tr th {\n",
       "        vertical-align: top;\n",
       "    }\n",
       "\n",
       "    .dataframe thead th {\n",
       "        text-align: right;\n",
       "    }\n",
       "</style>\n",
       "<table border=\"1\" class=\"dataframe\">\n",
       "  <thead>\n",
       "    <tr style=\"text-align: right;\">\n",
       "      <th></th>\n",
       "      <th>ratings</th>\n",
       "      <th>counts</th>\n",
       "    </tr>\n",
       "    <tr>\n",
       "      <th>userId</th>\n",
       "      <th></th>\n",
       "      <th></th>\n",
       "    </tr>\n",
       "  </thead>\n",
       "  <tbody>\n",
       "    <tr>\n",
       "      <th>1664010</th>\n",
       "      <td>4.300000</td>\n",
       "      <td>70</td>\n",
       "    </tr>\n",
       "    <tr>\n",
       "      <th>2439493</th>\n",
       "      <td>1.307692</td>\n",
       "      <td>52</td>\n",
       "    </tr>\n",
       "    <tr>\n",
       "      <th>305344</th>\n",
       "      <td>1.711538</td>\n",
       "      <td>52</td>\n",
       "    </tr>\n",
       "    <tr>\n",
       "      <th>387418</th>\n",
       "      <td>1.941176</td>\n",
       "      <td>51</td>\n",
       "    </tr>\n",
       "    <tr>\n",
       "      <th>1314869</th>\n",
       "      <td>3.263158</td>\n",
       "      <td>38</td>\n",
       "    </tr>\n",
       "    <tr>\n",
       "      <th>2118461</th>\n",
       "      <td>4.117647</td>\n",
       "      <td>34</td>\n",
       "    </tr>\n",
       "    <tr>\n",
       "      <th>1932594</th>\n",
       "      <td>2.321429</td>\n",
       "      <td>28</td>\n",
       "    </tr>\n",
       "    <tr>\n",
       "      <th>491531</th>\n",
       "      <td>2.629630</td>\n",
       "      <td>27</td>\n",
       "    </tr>\n",
       "    <tr>\n",
       "      <th>2606799</th>\n",
       "      <td>2.888889</td>\n",
       "      <td>27</td>\n",
       "    </tr>\n",
       "    <tr>\n",
       "      <th>727242</th>\n",
       "      <td>1.360000</td>\n",
       "      <td>25</td>\n",
       "    </tr>\n",
       "  </tbody>\n",
       "</table>\n",
       "</div>"
      ],
      "text/plain": [
       "          ratings  counts\n",
       "userId                   \n",
       "1664010  4.300000      70\n",
       "2439493  1.307692      52\n",
       "305344   1.711538      52\n",
       "387418   1.941176      51\n",
       "1314869  3.263158      38\n",
       "2118461  4.117647      34\n",
       "1932594  2.321429      28\n",
       "491531   2.629630      27\n",
       "2606799  2.888889      27\n",
       "727242   1.360000      25"
      ]
     },
     "execution_count": 25,
     "metadata": {},
     "output_type": "execute_result"
    }
   ],
   "source": [
    "averageUserRatingsTesting.sort_values(by=['counts'],ascending=False).head(10)"
   ]
  },
  {
   "cell_type": "markdown",
   "metadata": {},
   "source": [
    "## ESTIMATED AVERAGE OVERLAP OF ITEMS FOR USERS"
   ]
  },
  {
   "cell_type": "code",
   "execution_count": 36,
   "metadata": {},
   "outputs": [
    {
     "data": {
      "text/html": [
       "<div>\n",
       "<style scoped>\n",
       "    .dataframe tbody tr th:only-of-type {\n",
       "        vertical-align: middle;\n",
       "    }\n",
       "\n",
       "    .dataframe tbody tr th {\n",
       "        vertical-align: top;\n",
       "    }\n",
       "\n",
       "    .dataframe thead th {\n",
       "        text-align: right;\n",
       "    }\n",
       "</style>\n",
       "<table border=\"1\" class=\"dataframe\">\n",
       "  <thead>\n",
       "    <tr style=\"text-align: right;\">\n",
       "      <th>movieId</th>\n",
       "      <th>8</th>\n",
       "      <th>28</th>\n",
       "      <th>43</th>\n",
       "      <th>48</th>\n",
       "      <th>61</th>\n",
       "      <th>64</th>\n",
       "      <th>66</th>\n",
       "      <th>92</th>\n",
       "      <th>96</th>\n",
       "      <th>111</th>\n",
       "      <th>...</th>\n",
       "      <th>17654</th>\n",
       "      <th>17660</th>\n",
       "      <th>17689</th>\n",
       "      <th>17693</th>\n",
       "      <th>17706</th>\n",
       "      <th>17725</th>\n",
       "      <th>17728</th>\n",
       "      <th>17734</th>\n",
       "      <th>17741</th>\n",
       "      <th>17742</th>\n",
       "    </tr>\n",
       "    <tr>\n",
       "      <th>userId</th>\n",
       "      <th></th>\n",
       "      <th></th>\n",
       "      <th></th>\n",
       "      <th></th>\n",
       "      <th></th>\n",
       "      <th></th>\n",
       "      <th></th>\n",
       "      <th></th>\n",
       "      <th></th>\n",
       "      <th></th>\n",
       "      <th></th>\n",
       "      <th></th>\n",
       "      <th></th>\n",
       "      <th></th>\n",
       "      <th></th>\n",
       "      <th></th>\n",
       "      <th></th>\n",
       "      <th></th>\n",
       "      <th></th>\n",
       "      <th></th>\n",
       "      <th></th>\n",
       "    </tr>\n",
       "  </thead>\n",
       "  <tbody>\n",
       "    <tr>\n",
       "      <th>7</th>\n",
       "      <td>5.0</td>\n",
       "      <td>4.0</td>\n",
       "      <td>NaN</td>\n",
       "      <td>NaN</td>\n",
       "      <td>NaN</td>\n",
       "      <td>NaN</td>\n",
       "      <td>NaN</td>\n",
       "      <td>NaN</td>\n",
       "      <td>NaN</td>\n",
       "      <td>NaN</td>\n",
       "      <td>...</td>\n",
       "      <td>NaN</td>\n",
       "      <td>NaN</td>\n",
       "      <td>NaN</td>\n",
       "      <td>NaN</td>\n",
       "      <td>NaN</td>\n",
       "      <td>NaN</td>\n",
       "      <td>NaN</td>\n",
       "      <td>NaN</td>\n",
       "      <td>NaN</td>\n",
       "      <td>NaN</td>\n",
       "    </tr>\n",
       "    <tr>\n",
       "      <th>79</th>\n",
       "      <td>NaN</td>\n",
       "      <td>NaN</td>\n",
       "      <td>NaN</td>\n",
       "      <td>NaN</td>\n",
       "      <td>NaN</td>\n",
       "      <td>NaN</td>\n",
       "      <td>NaN</td>\n",
       "      <td>NaN</td>\n",
       "      <td>NaN</td>\n",
       "      <td>NaN</td>\n",
       "      <td>...</td>\n",
       "      <td>NaN</td>\n",
       "      <td>NaN</td>\n",
       "      <td>NaN</td>\n",
       "      <td>NaN</td>\n",
       "      <td>NaN</td>\n",
       "      <td>NaN</td>\n",
       "      <td>NaN</td>\n",
       "      <td>NaN</td>\n",
       "      <td>NaN</td>\n",
       "      <td>NaN</td>\n",
       "    </tr>\n",
       "    <tr>\n",
       "      <th>199</th>\n",
       "      <td>NaN</td>\n",
       "      <td>NaN</td>\n",
       "      <td>NaN</td>\n",
       "      <td>NaN</td>\n",
       "      <td>NaN</td>\n",
       "      <td>NaN</td>\n",
       "      <td>NaN</td>\n",
       "      <td>NaN</td>\n",
       "      <td>NaN</td>\n",
       "      <td>4.0</td>\n",
       "      <td>...</td>\n",
       "      <td>NaN</td>\n",
       "      <td>NaN</td>\n",
       "      <td>NaN</td>\n",
       "      <td>NaN</td>\n",
       "      <td>NaN</td>\n",
       "      <td>NaN</td>\n",
       "      <td>NaN</td>\n",
       "      <td>NaN</td>\n",
       "      <td>NaN</td>\n",
       "      <td>NaN</td>\n",
       "    </tr>\n",
       "    <tr>\n",
       "      <th>481</th>\n",
       "      <td>NaN</td>\n",
       "      <td>NaN</td>\n",
       "      <td>NaN</td>\n",
       "      <td>NaN</td>\n",
       "      <td>NaN</td>\n",
       "      <td>NaN</td>\n",
       "      <td>NaN</td>\n",
       "      <td>NaN</td>\n",
       "      <td>NaN</td>\n",
       "      <td>5.0</td>\n",
       "      <td>...</td>\n",
       "      <td>NaN</td>\n",
       "      <td>NaN</td>\n",
       "      <td>NaN</td>\n",
       "      <td>NaN</td>\n",
       "      <td>NaN</td>\n",
       "      <td>NaN</td>\n",
       "      <td>NaN</td>\n",
       "      <td>NaN</td>\n",
       "      <td>NaN</td>\n",
       "      <td>NaN</td>\n",
       "    </tr>\n",
       "    <tr>\n",
       "      <th>769</th>\n",
       "      <td>NaN</td>\n",
       "      <td>NaN</td>\n",
       "      <td>NaN</td>\n",
       "      <td>NaN</td>\n",
       "      <td>NaN</td>\n",
       "      <td>NaN</td>\n",
       "      <td>NaN</td>\n",
       "      <td>NaN</td>\n",
       "      <td>NaN</td>\n",
       "      <td>NaN</td>\n",
       "      <td>...</td>\n",
       "      <td>NaN</td>\n",
       "      <td>NaN</td>\n",
       "      <td>NaN</td>\n",
       "      <td>NaN</td>\n",
       "      <td>NaN</td>\n",
       "      <td>NaN</td>\n",
       "      <td>NaN</td>\n",
       "      <td>NaN</td>\n",
       "      <td>NaN</td>\n",
       "      <td>NaN</td>\n",
       "    </tr>\n",
       "  </tbody>\n",
       "</table>\n",
       "<p>5 rows × 1821 columns</p>\n",
       "</div>"
      ],
      "text/plain": [
       "movieId  8      28     43     48     61     64     66     92     96     111    \\\n",
       "userId                                                                          \n",
       "7          5.0    4.0    NaN    NaN    NaN    NaN    NaN    NaN    NaN    NaN   \n",
       "79         NaN    NaN    NaN    NaN    NaN    NaN    NaN    NaN    NaN    NaN   \n",
       "199        NaN    NaN    NaN    NaN    NaN    NaN    NaN    NaN    NaN    4.0   \n",
       "481        NaN    NaN    NaN    NaN    NaN    NaN    NaN    NaN    NaN    5.0   \n",
       "769        NaN    NaN    NaN    NaN    NaN    NaN    NaN    NaN    NaN    NaN   \n",
       "\n",
       "movieId  ...  17654  17660  17689  17693  17706  17725  17728  17734  17741  \\\n",
       "userId   ...                                                                  \n",
       "7        ...    NaN    NaN    NaN    NaN    NaN    NaN    NaN    NaN    NaN   \n",
       "79       ...    NaN    NaN    NaN    NaN    NaN    NaN    NaN    NaN    NaN   \n",
       "199      ...    NaN    NaN    NaN    NaN    NaN    NaN    NaN    NaN    NaN   \n",
       "481      ...    NaN    NaN    NaN    NaN    NaN    NaN    NaN    NaN    NaN   \n",
       "769      ...    NaN    NaN    NaN    NaN    NaN    NaN    NaN    NaN    NaN   \n",
       "\n",
       "movieId  17742  \n",
       "userId          \n",
       "7          NaN  \n",
       "79         NaN  \n",
       "199        NaN  \n",
       "481        NaN  \n",
       "769        NaN  \n",
       "\n",
       "[5 rows x 1821 columns]"
      ]
     },
     "execution_count": 36,
     "metadata": {},
     "output_type": "execute_result"
    }
   ],
   "source": [
    "#Pivoting the table with userID as index and the movieId as columns for our training data\n",
    "\n",
    "userItemRating = training_pd.pivot_table(index='userId', columns='movieId', values='ratings')\n",
    "\n",
    "userItemRating.head()"
   ]
  },
  {
   "cell_type": "code",
   "execution_count": 37,
   "metadata": {},
   "outputs": [
    {
     "data": {
      "text/html": [
       "<div>\n",
       "<style scoped>\n",
       "    .dataframe tbody tr th:only-of-type {\n",
       "        vertical-align: middle;\n",
       "    }\n",
       "\n",
       "    .dataframe tbody tr th {\n",
       "        vertical-align: top;\n",
       "    }\n",
       "\n",
       "    .dataframe thead th {\n",
       "        text-align: right;\n",
       "    }\n",
       "</style>\n",
       "<table border=\"1\" class=\"dataframe\">\n",
       "  <thead>\n",
       "    <tr style=\"text-align: right;\">\n",
       "      <th></th>\n",
       "      <th>movieId</th>\n",
       "      <th>userId</th>\n",
       "      <th>ratings</th>\n",
       "    </tr>\n",
       "  </thead>\n",
       "  <tbody>\n",
       "    <tr>\n",
       "      <th>0</th>\n",
       "      <td>8</td>\n",
       "      <td>573364</td>\n",
       "      <td>1.0</td>\n",
       "    </tr>\n",
       "    <tr>\n",
       "      <th>1</th>\n",
       "      <td>8</td>\n",
       "      <td>2149668</td>\n",
       "      <td>3.0</td>\n",
       "    </tr>\n",
       "    <tr>\n",
       "      <th>2</th>\n",
       "      <td>8</td>\n",
       "      <td>1089184</td>\n",
       "      <td>3.0</td>\n",
       "    </tr>\n",
       "    <tr>\n",
       "      <th>3</th>\n",
       "      <td>8</td>\n",
       "      <td>2465894</td>\n",
       "      <td>3.0</td>\n",
       "    </tr>\n",
       "    <tr>\n",
       "      <th>4</th>\n",
       "      <td>8</td>\n",
       "      <td>534508</td>\n",
       "      <td>1.0</td>\n",
       "    </tr>\n",
       "  </tbody>\n",
       "</table>\n",
       "</div>"
      ],
      "text/plain": [
       "   movieId   userId  ratings\n",
       "0        8   573364      1.0\n",
       "1        8  2149668      3.0\n",
       "2        8  1089184      3.0\n",
       "3        8  2465894      3.0\n",
       "4        8   534508      1.0"
      ]
     },
     "execution_count": 37,
     "metadata": {},
     "output_type": "execute_result"
    }
   ],
   "source": [
    "testing_pd.head()"
   ]
  },
  {
   "cell_type": "code",
   "execution_count": 38,
   "metadata": {},
   "outputs": [
    {
     "data": {
      "text/html": [
       "<div>\n",
       "<style scoped>\n",
       "    .dataframe tbody tr th:only-of-type {\n",
       "        vertical-align: middle;\n",
       "    }\n",
       "\n",
       "    .dataframe tbody tr th {\n",
       "        vertical-align: top;\n",
       "    }\n",
       "\n",
       "    .dataframe thead th {\n",
       "        text-align: right;\n",
       "    }\n",
       "</style>\n",
       "<table border=\"1\" class=\"dataframe\">\n",
       "  <thead>\n",
       "    <tr style=\"text-align: right;\">\n",
       "      <th>movieId</th>\n",
       "      <th>8</th>\n",
       "      <th>28</th>\n",
       "      <th>43</th>\n",
       "      <th>48</th>\n",
       "      <th>61</th>\n",
       "      <th>64</th>\n",
       "      <th>66</th>\n",
       "      <th>92</th>\n",
       "      <th>96</th>\n",
       "      <th>111</th>\n",
       "      <th>...</th>\n",
       "      <th>17654</th>\n",
       "      <th>17660</th>\n",
       "      <th>17689</th>\n",
       "      <th>17693</th>\n",
       "      <th>17706</th>\n",
       "      <th>17725</th>\n",
       "      <th>17728</th>\n",
       "      <th>17734</th>\n",
       "      <th>17741</th>\n",
       "      <th>17742</th>\n",
       "    </tr>\n",
       "    <tr>\n",
       "      <th>userId</th>\n",
       "      <th></th>\n",
       "      <th></th>\n",
       "      <th></th>\n",
       "      <th></th>\n",
       "      <th></th>\n",
       "      <th></th>\n",
       "      <th></th>\n",
       "      <th></th>\n",
       "      <th></th>\n",
       "      <th></th>\n",
       "      <th></th>\n",
       "      <th></th>\n",
       "      <th></th>\n",
       "      <th></th>\n",
       "      <th></th>\n",
       "      <th></th>\n",
       "      <th></th>\n",
       "      <th></th>\n",
       "      <th></th>\n",
       "      <th></th>\n",
       "      <th></th>\n",
       "    </tr>\n",
       "  </thead>\n",
       "  <tbody>\n",
       "    <tr>\n",
       "      <th>7</th>\n",
       "      <td>5</td>\n",
       "      <td>4</td>\n",
       "      <td>0</td>\n",
       "      <td>0</td>\n",
       "      <td>0</td>\n",
       "      <td>0</td>\n",
       "      <td>0</td>\n",
       "      <td>0</td>\n",
       "      <td>0</td>\n",
       "      <td>0</td>\n",
       "      <td>...</td>\n",
       "      <td>0</td>\n",
       "      <td>0</td>\n",
       "      <td>0</td>\n",
       "      <td>0</td>\n",
       "      <td>0</td>\n",
       "      <td>0</td>\n",
       "      <td>0</td>\n",
       "      <td>0</td>\n",
       "      <td>0</td>\n",
       "      <td>0</td>\n",
       "    </tr>\n",
       "    <tr>\n",
       "      <th>79</th>\n",
       "      <td>0</td>\n",
       "      <td>0</td>\n",
       "      <td>0</td>\n",
       "      <td>0</td>\n",
       "      <td>0</td>\n",
       "      <td>0</td>\n",
       "      <td>0</td>\n",
       "      <td>0</td>\n",
       "      <td>0</td>\n",
       "      <td>0</td>\n",
       "      <td>...</td>\n",
       "      <td>0</td>\n",
       "      <td>0</td>\n",
       "      <td>0</td>\n",
       "      <td>0</td>\n",
       "      <td>0</td>\n",
       "      <td>0</td>\n",
       "      <td>0</td>\n",
       "      <td>0</td>\n",
       "      <td>0</td>\n",
       "      <td>0</td>\n",
       "    </tr>\n",
       "    <tr>\n",
       "      <th>199</th>\n",
       "      <td>0</td>\n",
       "      <td>0</td>\n",
       "      <td>0</td>\n",
       "      <td>0</td>\n",
       "      <td>0</td>\n",
       "      <td>0</td>\n",
       "      <td>0</td>\n",
       "      <td>0</td>\n",
       "      <td>0</td>\n",
       "      <td>4</td>\n",
       "      <td>...</td>\n",
       "      <td>0</td>\n",
       "      <td>0</td>\n",
       "      <td>0</td>\n",
       "      <td>0</td>\n",
       "      <td>0</td>\n",
       "      <td>0</td>\n",
       "      <td>0</td>\n",
       "      <td>0</td>\n",
       "      <td>0</td>\n",
       "      <td>0</td>\n",
       "    </tr>\n",
       "    <tr>\n",
       "      <th>481</th>\n",
       "      <td>0</td>\n",
       "      <td>0</td>\n",
       "      <td>0</td>\n",
       "      <td>0</td>\n",
       "      <td>0</td>\n",
       "      <td>0</td>\n",
       "      <td>0</td>\n",
       "      <td>0</td>\n",
       "      <td>0</td>\n",
       "      <td>5</td>\n",
       "      <td>...</td>\n",
       "      <td>0</td>\n",
       "      <td>0</td>\n",
       "      <td>0</td>\n",
       "      <td>0</td>\n",
       "      <td>0</td>\n",
       "      <td>0</td>\n",
       "      <td>0</td>\n",
       "      <td>0</td>\n",
       "      <td>0</td>\n",
       "      <td>0</td>\n",
       "    </tr>\n",
       "    <tr>\n",
       "      <th>769</th>\n",
       "      <td>0</td>\n",
       "      <td>0</td>\n",
       "      <td>0</td>\n",
       "      <td>0</td>\n",
       "      <td>0</td>\n",
       "      <td>0</td>\n",
       "      <td>0</td>\n",
       "      <td>0</td>\n",
       "      <td>0</td>\n",
       "      <td>0</td>\n",
       "      <td>...</td>\n",
       "      <td>0</td>\n",
       "      <td>0</td>\n",
       "      <td>0</td>\n",
       "      <td>0</td>\n",
       "      <td>0</td>\n",
       "      <td>0</td>\n",
       "      <td>0</td>\n",
       "      <td>0</td>\n",
       "      <td>0</td>\n",
       "      <td>0</td>\n",
       "    </tr>\n",
       "  </tbody>\n",
       "</table>\n",
       "<p>5 rows × 1821 columns</p>\n",
       "</div>"
      ],
      "text/plain": [
       "movieId  8      28     43     48     61     64     66     92     96     111    \\\n",
       "userId                                                                          \n",
       "7            5      4      0      0      0      0      0      0      0      0   \n",
       "79           0      0      0      0      0      0      0      0      0      0   \n",
       "199          0      0      0      0      0      0      0      0      0      4   \n",
       "481          0      0      0      0      0      0      0      0      0      5   \n",
       "769          0      0      0      0      0      0      0      0      0      0   \n",
       "\n",
       "movieId  ...  17654  17660  17689  17693  17706  17725  17728  17734  17741  \\\n",
       "userId   ...                                                                  \n",
       "7        ...      0      0      0      0      0      0      0      0      0   \n",
       "79       ...      0      0      0      0      0      0      0      0      0   \n",
       "199      ...      0      0      0      0      0      0      0      0      0   \n",
       "481      ...      0      0      0      0      0      0      0      0      0   \n",
       "769      ...      0      0      0      0      0      0      0      0      0   \n",
       "\n",
       "movieId  17742  \n",
       "userId          \n",
       "7            0  \n",
       "79           0  \n",
       "199          0  \n",
       "481          0  \n",
       "769          0  \n",
       "\n",
       "[5 rows x 1821 columns]"
      ]
     },
     "execution_count": 38,
     "metadata": {},
     "output_type": "execute_result"
    }
   ],
   "source": [
    "userItemRating.fillna(0, inplace = True)\n",
    "\n",
    "userMovieRating = userItemRating.astype(np.int32)\n",
    "\n",
    "userMovieRating.head()"
   ]
  },
  {
   "cell_type": "markdown",
   "metadata": {},
   "source": [
    "\n",
    "## I am using the top 10 users and movies which are having the most counts from the test dataset.\n"
   ]
  },
  {
   "cell_type": "code",
   "execution_count": 39,
   "metadata": {},
   "outputs": [
    {
     "data": {
      "text/plain": [
       "userId\n",
       "7       0\n",
       "79      0\n",
       "199     0\n",
       "481     0\n",
       "769     0\n",
       "906     0\n",
       "1310    0\n",
       "1333    0\n",
       "1427    0\n",
       "1442    0\n",
       "1457    0\n",
       "1500    0\n",
       "1527    0\n",
       "1918    0\n",
       "2000    0\n",
       "2128    0\n",
       "2213    0\n",
       "2225    0\n",
       "2307    0\n",
       "2455    0\n",
       "2469    0\n",
       "2678    0\n",
       "2787    0\n",
       "2905    0\n",
       "2976    0\n",
       "3039    0\n",
       "3321    0\n",
       "3363    0\n",
       "3458    0\n",
       "3595    0\n",
       "3604    0\n",
       "3694    0\n",
       "3718    0\n",
       "3798    0\n",
       "3870    0\n",
       "3998    0\n",
       "4057    0\n",
       "4247    0\n",
       "4306    0\n",
       "4315    0\n",
       "4409    0\n",
       "4421    0\n",
       "4576    0\n",
       "4597    0\n",
       "4679    0\n",
       "4706    0\n",
       "4783    0\n",
       "4905    0\n",
       "4906    0\n",
       "4983    0\n",
       "Name: 17742, dtype: int32"
      ]
     },
     "execution_count": 39,
     "metadata": {},
     "output_type": "execute_result"
    }
   ],
   "source": [
    "userMovieRating[17742].head(50)"
   ]
  },
  {
   "cell_type": "code",
   "execution_count": 40,
   "metadata": {},
   "outputs": [],
   "source": [
    "def average(user):\n",
    "    summed =0\n",
    "    count =0\n",
    "\n",
    "    for i in range(len(user)):\n",
    "        if(user[i]==0):\n",
    "            summed = summed +0\n",
    "        else:\n",
    "            summed= user[i] +summed\n",
    "            count= 1+ count\n",
    "    avgg=summed/count\n",
    "    return avgg"
   ]
  },
  {
   "cell_type": "code",
   "execution_count": 42,
   "metadata": {},
   "outputs": [
    {
     "data": {
      "text/html": [
       "<div>\n",
       "<style scoped>\n",
       "    .dataframe tbody tr th:only-of-type {\n",
       "        vertical-align: middle;\n",
       "    }\n",
       "\n",
       "    .dataframe tbody tr th {\n",
       "        vertical-align: top;\n",
       "    }\n",
       "\n",
       "    .dataframe thead th {\n",
       "        text-align: right;\n",
       "    }\n",
       "</style>\n",
       "<table border=\"1\" class=\"dataframe\">\n",
       "  <thead>\n",
       "    <tr style=\"text-align: right;\">\n",
       "      <th></th>\n",
       "      <th>movieId</th>\n",
       "      <th>userId</th>\n",
       "      <th>ratings</th>\n",
       "    </tr>\n",
       "  </thead>\n",
       "  <tbody>\n",
       "    <tr>\n",
       "      <th>100473</th>\n",
       "      <td>17742</td>\n",
       "      <td>1898310</td>\n",
       "      <td>2.0</td>\n",
       "    </tr>\n",
       "    <tr>\n",
       "      <th>100474</th>\n",
       "      <td>17742</td>\n",
       "      <td>716096</td>\n",
       "      <td>4.0</td>\n",
       "    </tr>\n",
       "    <tr>\n",
       "      <th>100475</th>\n",
       "      <td>17742</td>\n",
       "      <td>38115</td>\n",
       "      <td>3.0</td>\n",
       "    </tr>\n",
       "    <tr>\n",
       "      <th>100476</th>\n",
       "      <td>17742</td>\n",
       "      <td>2646347</td>\n",
       "      <td>5.0</td>\n",
       "    </tr>\n",
       "    <tr>\n",
       "      <th>100477</th>\n",
       "      <td>17742</td>\n",
       "      <td>273576</td>\n",
       "      <td>2.0</td>\n",
       "    </tr>\n",
       "  </tbody>\n",
       "</table>\n",
       "</div>"
      ],
      "text/plain": [
       "        movieId   userId  ratings\n",
       "100473    17742  1898310      2.0\n",
       "100474    17742   716096      4.0\n",
       "100475    17742    38115      3.0\n",
       "100476    17742  2646347      5.0\n",
       "100477    17742   273576      2.0"
      ]
     },
     "execution_count": 42,
     "metadata": {},
     "output_type": "execute_result"
    }
   ],
   "source": [
    "testing_pd.tail()"
   ]
  },
  {
   "cell_type": "code",
   "execution_count": 43,
   "metadata": {},
   "outputs": [
    {
     "name": "stdout",
     "output_type": "stream",
     "text": [
      "4.2384364820846905\n"
     ]
    }
   ],
   "source": [
    "user1664010= list(userMovieRating.loc[1664010])\n",
    "avg1664010= average(user1664010)\n",
    "print(avg1664010)"
   ]
  },
  {
   "cell_type": "code",
   "execution_count": 44,
   "metadata": {},
   "outputs": [
    {
     "name": "stdout",
     "output_type": "stream",
     "text": [
      "1.225609756097561\n"
     ]
    }
   ],
   "source": [
    "user2439493 = list(userMovieRating.loc[2439493])\n",
    "\n",
    "avg2439493= average(user2439493)\n",
    "\n",
    "print(avg2439493)"
   ]
  },
  {
   "cell_type": "code",
   "execution_count": 45,
   "metadata": {},
   "outputs": [
    {
     "name": "stdout",
     "output_type": "stream",
     "text": [
      "1.904382470119522\n"
     ]
    }
   ],
   "source": [
    "user305344 = list(userMovieRating.loc[305344])\n",
    "\n",
    "avg305344 = average(user305344)\n",
    "\n",
    "print(avg305344)"
   ]
  },
  {
   "cell_type": "code",
   "execution_count": 46,
   "metadata": {},
   "outputs": [
    {
     "name": "stdout",
     "output_type": "stream",
     "text": [
      "1.8405963302752293\n"
     ]
    }
   ],
   "source": [
    "user387418 = list(userMovieRating.loc[387418])\n",
    "\n",
    "avg387418= average(user387418)\n",
    "\n",
    "print(avg387418)"
   ]
  },
  {
   "cell_type": "code",
   "execution_count": 47,
   "metadata": {},
   "outputs": [
    {
     "name": "stdout",
     "output_type": "stream",
     "text": [
      "2.970984455958549\n"
     ]
    }
   ],
   "source": [
    "user1314869 = list(userMovieRating.loc[1314869])\n",
    "\n",
    "avg1314869= average(user1314869)\n",
    "\n",
    "print(avg1314869)"
   ]
  },
  {
   "cell_type": "code",
   "execution_count": 48,
   "metadata": {},
   "outputs": [
    {
     "name": "stdout",
     "output_type": "stream",
     "text": [
      "4.088453747467927\n"
     ]
    }
   ],
   "source": [
    "user2118461 = list(userMovieRating.loc[2118461])\n",
    "\n",
    "avg2118461= average(user2118461)\n",
    "\n",
    "print(avg2118461)"
   ]
  },
  {
   "cell_type": "code",
   "execution_count": 49,
   "metadata": {},
   "outputs": [
    {
     "name": "stdout",
     "output_type": "stream",
     "text": [
      "2.3195754716981134\n"
     ]
    }
   ],
   "source": [
    "user1932594 = list(userMovieRating.loc[1932594])\n",
    "\n",
    "avg1932594 = average(user1932594)\n",
    "\n",
    "print(avg1932594)"
   ]
  },
  {
   "cell_type": "code",
   "execution_count": 50,
   "metadata": {},
   "outputs": [
    {
     "name": "stdout",
     "output_type": "stream",
     "text": [
      "2.9102384291725105\n"
     ]
    }
   ],
   "source": [
    "user491531 = list(userMovieRating.loc[491531])\n",
    "\n",
    "avg491531= average(user491531)\n",
    "\n",
    "print(avg491531)"
   ]
  },
  {
   "cell_type": "code",
   "execution_count": 51,
   "metadata": {},
   "outputs": [
    {
     "name": "stdout",
     "output_type": "stream",
     "text": [
      "2.817982456140351\n"
     ]
    }
   ],
   "source": [
    "user2606799 = list(userMovieRating.loc[2606799])\n",
    "\n",
    "avg2606799 = average(user2606799)\n",
    "\n",
    "print(avg2606799)"
   ]
  },
  {
   "cell_type": "code",
   "execution_count": 52,
   "metadata": {},
   "outputs": [
    {
     "name": "stdout",
     "output_type": "stream",
     "text": [
      "1.1890694239290989\n"
     ]
    }
   ],
   "source": [
    "user727242 = list(userMovieRating.loc[727242])\n",
    "\n",
    "avg727242 = average(user727242)\n",
    "\n",
    "print(avg727242)"
   ]
  },
  {
   "cell_type": "code",
   "execution_count": 53,
   "metadata": {},
   "outputs": [
    {
     "name": "stdout",
     "output_type": "stream",
     "text": [
      "ESTIMATED AVERAGE OVERLAP OF ITEMS FOR USERS is :  2.550532902294355\n"
     ]
    }
   ],
   "source": [
    "ESTIMATED_AVERAGE_ITEMS_USERS = avg1314869+avg387418+avg305344+avg2439493+avg1664010+avg727242+avg2606799+avg491531+avg1932594+avg2118461\n",
    "\n",
    "print(\"ESTIMATED AVERAGE OVERLAP OF ITEMS FOR USERS is : \",ESTIMATED_AVERAGE_ITEMS_USERS/10)"
   ]
  },
  {
   "cell_type": "markdown",
   "metadata": {},
   "source": [
    "### ESTIMATED AVERAGE OVERLAP OF ITEMS FOR USERS is :  2.550532902294355"
   ]
  },
  {
   "cell_type": "markdown",
   "metadata": {},
   "source": [
    "## ESTIMATED AVERAGE OVERLAP OF USERS FOR ITEMS# "
   ]
  },
  {
   "cell_type": "code",
   "execution_count": 56,
   "metadata": {},
   "outputs": [
    {
     "data": {
      "text/html": [
       "<div>\n",
       "<style scoped>\n",
       "    .dataframe tbody tr th:only-of-type {\n",
       "        vertical-align: middle;\n",
       "    }\n",
       "\n",
       "    .dataframe tbody tr th {\n",
       "        vertical-align: top;\n",
       "    }\n",
       "\n",
       "    .dataframe thead th {\n",
       "        text-align: right;\n",
       "    }\n",
       "</style>\n",
       "<table border=\"1\" class=\"dataframe\">\n",
       "  <thead>\n",
       "    <tr style=\"text-align: right;\">\n",
       "      <th>userId</th>\n",
       "      <th>7</th>\n",
       "      <th>79</th>\n",
       "      <th>199</th>\n",
       "      <th>481</th>\n",
       "      <th>769</th>\n",
       "      <th>906</th>\n",
       "      <th>1310</th>\n",
       "      <th>1333</th>\n",
       "      <th>1427</th>\n",
       "      <th>1442</th>\n",
       "      <th>...</th>\n",
       "      <th>2648572</th>\n",
       "      <th>2648589</th>\n",
       "      <th>2648730</th>\n",
       "      <th>2648734</th>\n",
       "      <th>2648853</th>\n",
       "      <th>2648869</th>\n",
       "      <th>2648885</th>\n",
       "      <th>2649120</th>\n",
       "      <th>2649267</th>\n",
       "      <th>2649285</th>\n",
       "    </tr>\n",
       "    <tr>\n",
       "      <th>movieId</th>\n",
       "      <th></th>\n",
       "      <th></th>\n",
       "      <th></th>\n",
       "      <th></th>\n",
       "      <th></th>\n",
       "      <th></th>\n",
       "      <th></th>\n",
       "      <th></th>\n",
       "      <th></th>\n",
       "      <th></th>\n",
       "      <th></th>\n",
       "      <th></th>\n",
       "      <th></th>\n",
       "      <th></th>\n",
       "      <th></th>\n",
       "      <th></th>\n",
       "      <th></th>\n",
       "      <th></th>\n",
       "      <th></th>\n",
       "      <th></th>\n",
       "      <th></th>\n",
       "    </tr>\n",
       "  </thead>\n",
       "  <tbody>\n",
       "    <tr>\n",
       "      <th>8</th>\n",
       "      <td>5.0</td>\n",
       "      <td>NaN</td>\n",
       "      <td>NaN</td>\n",
       "      <td>NaN</td>\n",
       "      <td>NaN</td>\n",
       "      <td>NaN</td>\n",
       "      <td>NaN</td>\n",
       "      <td>3.0</td>\n",
       "      <td>NaN</td>\n",
       "      <td>NaN</td>\n",
       "      <td>...</td>\n",
       "      <td>NaN</td>\n",
       "      <td>NaN</td>\n",
       "      <td>NaN</td>\n",
       "      <td>NaN</td>\n",
       "      <td>NaN</td>\n",
       "      <td>NaN</td>\n",
       "      <td>NaN</td>\n",
       "      <td>NaN</td>\n",
       "      <td>NaN</td>\n",
       "      <td>NaN</td>\n",
       "    </tr>\n",
       "    <tr>\n",
       "      <th>28</th>\n",
       "      <td>4.0</td>\n",
       "      <td>NaN</td>\n",
       "      <td>NaN</td>\n",
       "      <td>NaN</td>\n",
       "      <td>NaN</td>\n",
       "      <td>3.0</td>\n",
       "      <td>3.0</td>\n",
       "      <td>2.0</td>\n",
       "      <td>NaN</td>\n",
       "      <td>4.0</td>\n",
       "      <td>...</td>\n",
       "      <td>NaN</td>\n",
       "      <td>3.0</td>\n",
       "      <td>4.0</td>\n",
       "      <td>NaN</td>\n",
       "      <td>2.0</td>\n",
       "      <td>NaN</td>\n",
       "      <td>4.0</td>\n",
       "      <td>NaN</td>\n",
       "      <td>NaN</td>\n",
       "      <td>4.0</td>\n",
       "    </tr>\n",
       "    <tr>\n",
       "      <th>43</th>\n",
       "      <td>NaN</td>\n",
       "      <td>NaN</td>\n",
       "      <td>NaN</td>\n",
       "      <td>NaN</td>\n",
       "      <td>NaN</td>\n",
       "      <td>NaN</td>\n",
       "      <td>NaN</td>\n",
       "      <td>NaN</td>\n",
       "      <td>NaN</td>\n",
       "      <td>NaN</td>\n",
       "      <td>...</td>\n",
       "      <td>NaN</td>\n",
       "      <td>NaN</td>\n",
       "      <td>NaN</td>\n",
       "      <td>NaN</td>\n",
       "      <td>NaN</td>\n",
       "      <td>NaN</td>\n",
       "      <td>NaN</td>\n",
       "      <td>NaN</td>\n",
       "      <td>NaN</td>\n",
       "      <td>NaN</td>\n",
       "    </tr>\n",
       "    <tr>\n",
       "      <th>48</th>\n",
       "      <td>NaN</td>\n",
       "      <td>NaN</td>\n",
       "      <td>NaN</td>\n",
       "      <td>NaN</td>\n",
       "      <td>NaN</td>\n",
       "      <td>NaN</td>\n",
       "      <td>NaN</td>\n",
       "      <td>NaN</td>\n",
       "      <td>NaN</td>\n",
       "      <td>NaN</td>\n",
       "      <td>...</td>\n",
       "      <td>NaN</td>\n",
       "      <td>NaN</td>\n",
       "      <td>NaN</td>\n",
       "      <td>NaN</td>\n",
       "      <td>NaN</td>\n",
       "      <td>NaN</td>\n",
       "      <td>NaN</td>\n",
       "      <td>NaN</td>\n",
       "      <td>NaN</td>\n",
       "      <td>NaN</td>\n",
       "    </tr>\n",
       "    <tr>\n",
       "      <th>61</th>\n",
       "      <td>NaN</td>\n",
       "      <td>NaN</td>\n",
       "      <td>NaN</td>\n",
       "      <td>NaN</td>\n",
       "      <td>NaN</td>\n",
       "      <td>NaN</td>\n",
       "      <td>NaN</td>\n",
       "      <td>NaN</td>\n",
       "      <td>NaN</td>\n",
       "      <td>NaN</td>\n",
       "      <td>...</td>\n",
       "      <td>NaN</td>\n",
       "      <td>NaN</td>\n",
       "      <td>NaN</td>\n",
       "      <td>NaN</td>\n",
       "      <td>NaN</td>\n",
       "      <td>NaN</td>\n",
       "      <td>NaN</td>\n",
       "      <td>NaN</td>\n",
       "      <td>NaN</td>\n",
       "      <td>NaN</td>\n",
       "    </tr>\n",
       "  </tbody>\n",
       "</table>\n",
       "<p>5 rows × 28978 columns</p>\n",
       "</div>"
      ],
      "text/plain": [
       "userId   7        79       199      481      769      906      1310     \\\n",
       "movieId                                                                  \n",
       "8            5.0      NaN      NaN      NaN      NaN      NaN      NaN   \n",
       "28           4.0      NaN      NaN      NaN      NaN      3.0      3.0   \n",
       "43           NaN      NaN      NaN      NaN      NaN      NaN      NaN   \n",
       "48           NaN      NaN      NaN      NaN      NaN      NaN      NaN   \n",
       "61           NaN      NaN      NaN      NaN      NaN      NaN      NaN   \n",
       "\n",
       "userId   1333     1427     1442     ...  2648572  2648589  2648730  2648734  \\\n",
       "movieId                             ...                                       \n",
       "8            3.0      NaN      NaN  ...      NaN      NaN      NaN      NaN   \n",
       "28           2.0      NaN      4.0  ...      NaN      3.0      4.0      NaN   \n",
       "43           NaN      NaN      NaN  ...      NaN      NaN      NaN      NaN   \n",
       "48           NaN      NaN      NaN  ...      NaN      NaN      NaN      NaN   \n",
       "61           NaN      NaN      NaN  ...      NaN      NaN      NaN      NaN   \n",
       "\n",
       "userId   2648853  2648869  2648885  2649120  2649267  2649285  \n",
       "movieId                                                        \n",
       "8            NaN      NaN      NaN      NaN      NaN      NaN  \n",
       "28           2.0      NaN      4.0      NaN      NaN      4.0  \n",
       "43           NaN      NaN      NaN      NaN      NaN      NaN  \n",
       "48           NaN      NaN      NaN      NaN      NaN      NaN  \n",
       "61           NaN      NaN      NaN      NaN      NaN      NaN  \n",
       "\n",
       "[5 rows x 28978 columns]"
      ]
     },
     "execution_count": 56,
     "metadata": {},
     "output_type": "execute_result"
    }
   ],
   "source": [
    "#creating a utility matrix with movieId as index and the userId as columns to training data\n",
    "\n",
    "movieUserRating = training_pd.pivot_table(index='movieId', columns='userId', values='ratings')\n",
    "\n",
    "movieUserRating.head()"
   ]
  },
  {
   "cell_type": "code",
   "execution_count": 57,
   "metadata": {},
   "outputs": [
    {
     "data": {
      "text/html": [
       "<div>\n",
       "<style scoped>\n",
       "    .dataframe tbody tr th:only-of-type {\n",
       "        vertical-align: middle;\n",
       "    }\n",
       "\n",
       "    .dataframe tbody tr th {\n",
       "        vertical-align: top;\n",
       "    }\n",
       "\n",
       "    .dataframe thead th {\n",
       "        text-align: right;\n",
       "    }\n",
       "</style>\n",
       "<table border=\"1\" class=\"dataframe\">\n",
       "  <thead>\n",
       "    <tr style=\"text-align: right;\">\n",
       "      <th>userId</th>\n",
       "      <th>7</th>\n",
       "      <th>79</th>\n",
       "      <th>199</th>\n",
       "      <th>481</th>\n",
       "      <th>769</th>\n",
       "      <th>906</th>\n",
       "      <th>1310</th>\n",
       "      <th>1333</th>\n",
       "      <th>1427</th>\n",
       "      <th>1442</th>\n",
       "      <th>...</th>\n",
       "      <th>2648572</th>\n",
       "      <th>2648589</th>\n",
       "      <th>2648730</th>\n",
       "      <th>2648734</th>\n",
       "      <th>2648853</th>\n",
       "      <th>2648869</th>\n",
       "      <th>2648885</th>\n",
       "      <th>2649120</th>\n",
       "      <th>2649267</th>\n",
       "      <th>2649285</th>\n",
       "    </tr>\n",
       "    <tr>\n",
       "      <th>movieId</th>\n",
       "      <th></th>\n",
       "      <th></th>\n",
       "      <th></th>\n",
       "      <th></th>\n",
       "      <th></th>\n",
       "      <th></th>\n",
       "      <th></th>\n",
       "      <th></th>\n",
       "      <th></th>\n",
       "      <th></th>\n",
       "      <th></th>\n",
       "      <th></th>\n",
       "      <th></th>\n",
       "      <th></th>\n",
       "      <th></th>\n",
       "      <th></th>\n",
       "      <th></th>\n",
       "      <th></th>\n",
       "      <th></th>\n",
       "      <th></th>\n",
       "      <th></th>\n",
       "    </tr>\n",
       "  </thead>\n",
       "  <tbody>\n",
       "    <tr>\n",
       "      <th>8</th>\n",
       "      <td>5</td>\n",
       "      <td>0</td>\n",
       "      <td>0</td>\n",
       "      <td>0</td>\n",
       "      <td>0</td>\n",
       "      <td>0</td>\n",
       "      <td>0</td>\n",
       "      <td>3</td>\n",
       "      <td>0</td>\n",
       "      <td>0</td>\n",
       "      <td>...</td>\n",
       "      <td>0</td>\n",
       "      <td>0</td>\n",
       "      <td>0</td>\n",
       "      <td>0</td>\n",
       "      <td>0</td>\n",
       "      <td>0</td>\n",
       "      <td>0</td>\n",
       "      <td>0</td>\n",
       "      <td>0</td>\n",
       "      <td>0</td>\n",
       "    </tr>\n",
       "    <tr>\n",
       "      <th>28</th>\n",
       "      <td>4</td>\n",
       "      <td>0</td>\n",
       "      <td>0</td>\n",
       "      <td>0</td>\n",
       "      <td>0</td>\n",
       "      <td>3</td>\n",
       "      <td>3</td>\n",
       "      <td>2</td>\n",
       "      <td>0</td>\n",
       "      <td>4</td>\n",
       "      <td>...</td>\n",
       "      <td>0</td>\n",
       "      <td>3</td>\n",
       "      <td>4</td>\n",
       "      <td>0</td>\n",
       "      <td>2</td>\n",
       "      <td>0</td>\n",
       "      <td>4</td>\n",
       "      <td>0</td>\n",
       "      <td>0</td>\n",
       "      <td>4</td>\n",
       "    </tr>\n",
       "    <tr>\n",
       "      <th>43</th>\n",
       "      <td>0</td>\n",
       "      <td>0</td>\n",
       "      <td>0</td>\n",
       "      <td>0</td>\n",
       "      <td>0</td>\n",
       "      <td>0</td>\n",
       "      <td>0</td>\n",
       "      <td>0</td>\n",
       "      <td>0</td>\n",
       "      <td>0</td>\n",
       "      <td>...</td>\n",
       "      <td>0</td>\n",
       "      <td>0</td>\n",
       "      <td>0</td>\n",
       "      <td>0</td>\n",
       "      <td>0</td>\n",
       "      <td>0</td>\n",
       "      <td>0</td>\n",
       "      <td>0</td>\n",
       "      <td>0</td>\n",
       "      <td>0</td>\n",
       "    </tr>\n",
       "    <tr>\n",
       "      <th>48</th>\n",
       "      <td>0</td>\n",
       "      <td>0</td>\n",
       "      <td>0</td>\n",
       "      <td>0</td>\n",
       "      <td>0</td>\n",
       "      <td>0</td>\n",
       "      <td>0</td>\n",
       "      <td>0</td>\n",
       "      <td>0</td>\n",
       "      <td>0</td>\n",
       "      <td>...</td>\n",
       "      <td>0</td>\n",
       "      <td>0</td>\n",
       "      <td>0</td>\n",
       "      <td>0</td>\n",
       "      <td>0</td>\n",
       "      <td>0</td>\n",
       "      <td>0</td>\n",
       "      <td>0</td>\n",
       "      <td>0</td>\n",
       "      <td>0</td>\n",
       "    </tr>\n",
       "    <tr>\n",
       "      <th>61</th>\n",
       "      <td>0</td>\n",
       "      <td>0</td>\n",
       "      <td>0</td>\n",
       "      <td>0</td>\n",
       "      <td>0</td>\n",
       "      <td>0</td>\n",
       "      <td>0</td>\n",
       "      <td>0</td>\n",
       "      <td>0</td>\n",
       "      <td>0</td>\n",
       "      <td>...</td>\n",
       "      <td>0</td>\n",
       "      <td>0</td>\n",
       "      <td>0</td>\n",
       "      <td>0</td>\n",
       "      <td>0</td>\n",
       "      <td>0</td>\n",
       "      <td>0</td>\n",
       "      <td>0</td>\n",
       "      <td>0</td>\n",
       "      <td>0</td>\n",
       "    </tr>\n",
       "  </tbody>\n",
       "</table>\n",
       "<p>5 rows × 28978 columns</p>\n",
       "</div>"
      ],
      "text/plain": [
       "userId   7        79       199      481      769      906      1310     \\\n",
       "movieId                                                                  \n",
       "8              5        0        0        0        0        0        0   \n",
       "28             4        0        0        0        0        3        3   \n",
       "43             0        0        0        0        0        0        0   \n",
       "48             0        0        0        0        0        0        0   \n",
       "61             0        0        0        0        0        0        0   \n",
       "\n",
       "userId   1333     1427     1442     ...  2648572  2648589  2648730  2648734  \\\n",
       "movieId                             ...                                       \n",
       "8              3        0        0  ...        0        0        0        0   \n",
       "28             2        0        4  ...        0        3        4        0   \n",
       "43             0        0        0  ...        0        0        0        0   \n",
       "48             0        0        0  ...        0        0        0        0   \n",
       "61             0        0        0  ...        0        0        0        0   \n",
       "\n",
       "userId   2648853  2648869  2648885  2649120  2649267  2649285  \n",
       "movieId                                                        \n",
       "8              0        0        0        0        0        0  \n",
       "28             2        0        4        0        0        4  \n",
       "43             0        0        0        0        0        0  \n",
       "48             0        0        0        0        0        0  \n",
       "61             0        0        0        0        0        0  \n",
       "\n",
       "[5 rows x 28978 columns]"
      ]
     },
     "execution_count": 57,
     "metadata": {},
     "output_type": "execute_result"
    }
   ],
   "source": [
    "movieUserRating.fillna(0, inplace = True)\n",
    "\n",
    "movieUserRating = movieUserRating.astype(np.int32)\n",
    "\n",
    "movieUserRating.head()"
   ]
  },
  {
   "cell_type": "code",
   "execution_count": 58,
   "metadata": {},
   "outputs": [
    {
     "name": "stdout",
     "output_type": "stream",
     "text": [
      "4.071815611748076\n"
     ]
    }
   ],
   "source": [
    "movie6971= list(movieUserRating.loc[6971])\n",
    "\n",
    "avg6971= average(movie6971)\n",
    "\n",
    "print(avg6971)"
   ]
  },
  {
   "cell_type": "code",
   "execution_count": 59,
   "metadata": {},
   "outputs": [
    {
     "name": "stdout",
     "output_type": "stream",
     "text": [
      "4.047438894792774\n"
     ]
    }
   ],
   "source": [
    "\n",
    "movie4640= list(movieUserRating.loc[4640])\n",
    "\n",
    "avg4640 = average(movie4640)\n",
    "\n",
    "print(avg4640)"
   ]
  },
  {
   "cell_type": "code",
   "execution_count": 60,
   "metadata": {},
   "outputs": [
    {
     "name": "stdout",
     "output_type": "stream",
     "text": [
      "3.7261099495756977\n"
     ]
    }
   ],
   "source": [
    "\n",
    "movie6287= list(movieUserRating.loc[6287])\n",
    "\n",
    "avg6287= average(movie6287)\n",
    "\n",
    "print(avg6287)"
   ]
  },
  {
   "cell_type": "code",
   "execution_count": 61,
   "metadata": {},
   "outputs": [
    {
     "name": "stdout",
     "output_type": "stream",
     "text": [
      "3.8246204278812974\n"
     ]
    }
   ],
   "source": [
    "\n",
    "movie9728  = list(movieUserRating.loc[9728])\n",
    "\n",
    "avg9728= average(movie9728)\n",
    "\n",
    "print(avg9728)"
   ]
  },
  {
   "cell_type": "code",
   "execution_count": 62,
   "metadata": {},
   "outputs": [
    {
     "name": "stdout",
     "output_type": "stream",
     "text": [
      "3.9663373050469826\n"
     ]
    }
   ],
   "source": [
    "8915\n",
    "movie8915 = list(movieUserRating.loc[8915])\n",
    "\n",
    "avg8915 = average(movie8915)\n",
    "\n",
    "print(avg8915)"
   ]
  },
  {
   "cell_type": "code",
   "execution_count": 63,
   "metadata": {},
   "outputs": [
    {
     "name": "stdout",
     "output_type": "stream",
     "text": [
      "3.6721471305118545\n"
     ]
    }
   ],
   "source": [
    "#4432\n",
    "movie4432= list(movieUserRating.loc[4432])\n",
    "\n",
    "avg4432 = average(movie4432)\n",
    "\n",
    "print(avg4432)"
   ]
  },
  {
   "cell_type": "code",
   "execution_count": 64,
   "metadata": {},
   "outputs": [
    {
     "name": "stdout",
     "output_type": "stream",
     "text": [
      "4.103368832862421\n"
     ]
    }
   ],
   "source": [
    "#8596\n",
    "movie8596= list(movieUserRating.loc[8596])\n",
    "\n",
    "avg8596 = average(movie8596)\n",
    "\n",
    "print(avg8596)"
   ]
  },
  {
   "cell_type": "code",
   "execution_count": 65,
   "metadata": {},
   "outputs": [
    {
     "name": "stdout",
     "output_type": "stream",
     "text": [
      "3.8013020096235492\n"
     ]
    }
   ],
   "source": [
    "#6408\n",
    "movie6408= list(movieUserRating.loc[6408])\n",
    "\n",
    "avg6408 = average(movie6408)\n",
    "\n",
    "print(avg6408)"
   ]
  },
  {
   "cell_type": "code",
   "execution_count": 66,
   "metadata": {},
   "outputs": [
    {
     "name": "stdout",
     "output_type": "stream",
     "text": [
      "3.2807910426057876\n"
     ]
    }
   ],
   "source": [
    "\n",
    "movie1406= list(movieUserRating.loc[1406])\n",
    "\n",
    "avg1406 = average(movie1406)\n",
    "\n",
    "print(avg1406)"
   ]
  },
  {
   "cell_type": "code",
   "execution_count": 67,
   "metadata": {},
   "outputs": [
    {
     "name": "stdout",
     "output_type": "stream",
     "text": [
      "3.802730883813307\n"
     ]
    }
   ],
   "source": [
    "movie1744= list(movieUserRating.loc[1744])\n",
    "\n",
    "avg1744 = average(movie1744)\n",
    "\n",
    "print(avg1744)"
   ]
  },
  {
   "cell_type": "code",
   "execution_count": 68,
   "metadata": {},
   "outputs": [
    {
     "name": "stdout",
     "output_type": "stream",
     "text": [
      "ESTIMATED AVERAGE OVERLAP OF USERS FOR ITEMS :  3.8296662088461746\n"
     ]
    }
   ],
   "source": [
    "\n",
    "ESTIMATED_AVERAGE_USER_ITEMS = avg6971+avg4640+avg6287+avg9728+avg8915+avg1744+avg1406+avg6408+avg8596+avg4432\n",
    "\n",
    "print(\"ESTIMATED AVERAGE OVERLAP OF USERS FOR ITEMS : \",ESTIMATED_AVERAGE_USER_ITEMS/10)"
   ]
  },
  {
   "cell_type": "markdown",
   "metadata": {},
   "source": [
    "### ESTIMATED AVERAGE OVERLAP OF USERS FOR ITEMS :  3.8296662088461746"
   ]
  },
  {
   "cell_type": "markdown",
   "metadata": {},
   "source": [
    "# ALS Model Approach"
   ]
  },
  {
   "cell_type": "code",
   "execution_count": 69,
   "metadata": {},
   "outputs": [],
   "source": [
    "from pyspark.ml.evaluation import RegressionEvaluator\n",
    "from pyspark.ml.recommendation import ALS\n",
    "from pyspark.sql import Row"
   ]
  },
  {
   "cell_type": "code",
   "execution_count": 70,
   "metadata": {},
   "outputs": [],
   "source": [
    "#Joining the actual dataframes with movie dataframe for accurate understandings\n",
    "\n",
    "df_training_join = df_training.join(df_movies,on=['movieId'],how='inner')\n",
    "\n",
    "df_testing_join = df_testing.join(df_movies,on=['movieId'],how='inner')"
   ]
  },
  {
   "cell_type": "markdown",
   "metadata": {},
   "source": [
    "### Approach 1, maxIter = 5 , regParam = 0.08"
   ]
  },
  {
   "cell_type": "code",
   "execution_count": 71,
   "metadata": {},
   "outputs": [
    {
     "name": "stderr",
     "output_type": "stream",
     "text": [
      "[Stage 116:============================================>        (169 + 8) / 200]"
     ]
    },
    {
     "name": "stdout",
     "output_type": "stream",
     "text": [
      "Mean squared error = 0.7396199569226314\n",
      "Root-mean-square error = 0.8600116027837251\n"
     ]
    },
    {
     "name": "stderr",
     "output_type": "stream",
     "text": [
      "                                                                                \r"
     ]
    }
   ],
   "source": [
    "als = ALS(maxIter=5, regParam=0.08, userCol=\"userId\", itemCol=\"movieId\", ratingCol=\"ratings\",\n",
    "          coldStartStrategy=\"drop\")\n",
    "model1 = als.fit(df_training_join)\n",
    "\n",
    "\n",
    "\n",
    "# Evaluate the model by computing the RMSE on the test data\n",
    "predictions1 = model1.transform(df_testing_join)\n",
    "evaluator = RegressionEvaluator(metricName=\"mse\", labelCol=\"ratings\",\n",
    "                                predictionCol=\"prediction\")\n",
    "                                            \n",
    "evaluator1 = RegressionEvaluator(metricName=\"rmse\", labelCol=\"ratings\",\n",
    "                                predictionCol=\"prediction\")\n",
    "\n",
    "\n",
    "\n",
    "rmse = evaluator1.evaluate(predictions1)\n",
    "mse = evaluator.evaluate(predictions1)\n",
    "\n",
    "print(\"Mean squared error = \" + str(mse))\n",
    "print(\"Root-mean-square error = \" + str(rmse))"
   ]
  },
  {
   "cell_type": "markdown",
   "metadata": {},
   "source": [
    "### With the parameters maxIter = 5 , regParam = 0.08, Root-mean-square error is 0.860 and Mean squared error is 0.739"
   ]
  },
  {
   "cell_type": "code",
   "execution_count": 72,
   "metadata": {},
   "outputs": [
    {
     "name": "stdout",
     "output_type": "stream",
     "text": [
      "Following are the predictions results for the approach 1 model. \n",
      "\n",
      "+-------+-------+-------+-------------+--------------------+----------+\n",
      "|movieId| userId|ratings|yearOfRelease|               title|prediction|\n",
      "+-------+-------+-------+-------------+--------------------+----------+\n",
      "|      8| 573364|    1.0|         2004|What the #$*! Do ...| 3.0685322|\n",
      "|      8|2149668|    3.0|         2004|What the #$*! Do ...| 2.9306412|\n",
      "|      8|1089184|    3.0|         2004|What the #$*! Do ...| 2.2153425|\n",
      "|      8|2465894|    3.0|         2004|What the #$*! Do ...| 2.3224208|\n",
      "|      8| 534508|    1.0|         2004|What the #$*! Do ...| 2.9611382|\n",
      "|      8| 992921|    4.0|         2004|What the #$*! Do ...| 2.6497087|\n",
      "|      8| 595054|    4.0|         2004|What the #$*! Do ...| 2.8212795|\n",
      "|      8|1298304|    4.0|         2004|What the #$*! Do ...| 3.4586916|\n",
      "|      8|1661600|    4.0|         2004|What the #$*! Do ...| 3.1216502|\n",
      "|      8| 553787|    2.0|         2004|What the #$*! Do ...| 2.8211422|\n",
      "|      8|1309839|    3.0|         2004|What the #$*! Do ...| 2.4904318|\n",
      "|      8| 727242|    1.0|         2004|What the #$*! Do ...| 1.0623119|\n",
      "|      8|1437668|    4.0|         2004|What the #$*! Do ...| 2.3558142|\n",
      "|      8|2170930|    1.0|         2004|What the #$*! Do ...| 0.9015614|\n",
      "|      8|1780876|    5.0|         2004|What the #$*! Do ...| 3.5936513|\n",
      "|      8|   9660|    3.0|         2004|What the #$*! Do ...| 2.9033794|\n",
      "|      8|2379200|    4.0|         2004|What the #$*! Do ...| 2.6450715|\n",
      "|      8| 563186|    5.0|         2004|What the #$*! Do ...| 2.7552905|\n",
      "|      8|1539617|    4.0|         2004|What the #$*! Do ...|  2.709024|\n",
      "|      8|1656839|    1.0|         2004|What the #$*! Do ...| 2.4311297|\n",
      "+-------+-------+-------+-------------+--------------------+----------+\n",
      "only showing top 20 rows\n",
      "\n"
     ]
    }
   ],
   "source": [
    "print(\"Following are the predictions results for the approach 1 model. \\n\")\n",
    "\n",
    "predictions1.show()"
   ]
  },
  {
   "cell_type": "code",
   "execution_count": 73,
   "metadata": {},
   "outputs": [],
   "source": [
    "userRecs = model1.recommendForAllUsers(10)\n",
    "\n",
    "movieRecs = model1.recommendForAllItems(10)"
   ]
  },
  {
   "cell_type": "code",
   "execution_count": 74,
   "metadata": {},
   "outputs": [
    {
     "name": "stderr",
     "output_type": "stream",
     "text": [
      "                                                                                \r"
     ]
    },
    {
     "data": {
      "text/html": [
       "<div>\n",
       "<style scoped>\n",
       "    .dataframe tbody tr th:only-of-type {\n",
       "        vertical-align: middle;\n",
       "    }\n",
       "\n",
       "    .dataframe tbody tr th {\n",
       "        vertical-align: top;\n",
       "    }\n",
       "\n",
       "    .dataframe thead th {\n",
       "        text-align: right;\n",
       "    }\n",
       "</style>\n",
       "<table border=\"1\" class=\"dataframe\">\n",
       "  <thead>\n",
       "    <tr style=\"text-align: right;\">\n",
       "      <th></th>\n",
       "      <th>userId</th>\n",
       "      <th>recommendations</th>\n",
       "    </tr>\n",
       "  </thead>\n",
       "  <tbody>\n",
       "    <tr>\n",
       "      <th>0</th>\n",
       "      <td>481</td>\n",
       "      <td>[(4238, 5.191840648651123), (3033, 5.139437198...</td>\n",
       "    </tr>\n",
       "    <tr>\n",
       "      <th>1</th>\n",
       "      <td>2678</td>\n",
       "      <td>[(7569, 4.145359039306641), (3033, 4.109075069...</td>\n",
       "    </tr>\n",
       "    <tr>\n",
       "      <th>2</th>\n",
       "      <td>3595</td>\n",
       "      <td>[(12293, 4.385792255401611), (3290, 4.23582267...</td>\n",
       "    </tr>\n",
       "    <tr>\n",
       "      <th>3</th>\n",
       "      <td>6460</td>\n",
       "      <td>[(8933, 4.587021350860596), (12232, 4.55645847...</td>\n",
       "    </tr>\n",
       "    <tr>\n",
       "      <th>4</th>\n",
       "      <td>7284</td>\n",
       "      <td>[(8933, 5.285822868347168), (6522, 5.017945289...</td>\n",
       "    </tr>\n",
       "  </tbody>\n",
       "</table>\n",
       "</div>"
      ],
      "text/plain": [
       "   userId                                    recommendations\n",
       "0     481  [(4238, 5.191840648651123), (3033, 5.139437198...\n",
       "1    2678  [(7569, 4.145359039306641), (3033, 4.109075069...\n",
       "2    3595  [(12293, 4.385792255401611), (3290, 4.23582267...\n",
       "3    6460  [(8933, 4.587021350860596), (12232, 4.55645847...\n",
       "4    7284  [(8933, 5.285822868347168), (6522, 5.017945289..."
      ]
     },
     "execution_count": 74,
     "metadata": {},
     "output_type": "execute_result"
    }
   ],
   "source": [
    "#Recommendations for all users from model1 approach\n",
    "\n",
    "pd_userRecs = userRecs.toPandas()\n",
    "\n",
    "pd_userRecs.head()"
   ]
  },
  {
   "cell_type": "code",
   "execution_count": 75,
   "metadata": {},
   "outputs": [
    {
     "name": "stderr",
     "output_type": "stream",
     "text": [
      "                                                                                \r"
     ]
    },
    {
     "data": {
      "text/html": [
       "<div>\n",
       "<style scoped>\n",
       "    .dataframe tbody tr th:only-of-type {\n",
       "        vertical-align: middle;\n",
       "    }\n",
       "\n",
       "    .dataframe tbody tr th {\n",
       "        vertical-align: top;\n",
       "    }\n",
       "\n",
       "    .dataframe thead th {\n",
       "        text-align: right;\n",
       "    }\n",
       "</style>\n",
       "<table border=\"1\" class=\"dataframe\">\n",
       "  <thead>\n",
       "    <tr style=\"text-align: right;\">\n",
       "      <th></th>\n",
       "      <th>movieId</th>\n",
       "      <th>recommendations</th>\n",
       "    </tr>\n",
       "  </thead>\n",
       "  <tbody>\n",
       "    <tr>\n",
       "      <th>0</th>\n",
       "      <td>4190</td>\n",
       "      <td>[(1502298, 4.437478542327881), (479924, 4.2170...</td>\n",
       "    </tr>\n",
       "    <tr>\n",
       "      <th>1</th>\n",
       "      <td>3220</td>\n",
       "      <td>[(447759, 5.086691856384277), (428653, 5.07802...</td>\n",
       "    </tr>\n",
       "    <tr>\n",
       "      <th>2</th>\n",
       "      <td>11240</td>\n",
       "      <td>[(1396680, 5.078673839569092), (428653, 4.9635...</td>\n",
       "    </tr>\n",
       "    <tr>\n",
       "      <th>3</th>\n",
       "      <td>6110</td>\n",
       "      <td>[(2239984, 4.9491047859191895), (428653, 4.937...</td>\n",
       "    </tr>\n",
       "    <tr>\n",
       "      <th>4</th>\n",
       "      <td>8260</td>\n",
       "      <td>[(2217027, 4.025911331176758), (17433, 3.95634...</td>\n",
       "    </tr>\n",
       "  </tbody>\n",
       "</table>\n",
       "</div>"
      ],
      "text/plain": [
       "   movieId                                    recommendations\n",
       "0     4190  [(1502298, 4.437478542327881), (479924, 4.2170...\n",
       "1     3220  [(447759, 5.086691856384277), (428653, 5.07802...\n",
       "2    11240  [(1396680, 5.078673839569092), (428653, 4.9635...\n",
       "3     6110  [(2239984, 4.9491047859191895), (428653, 4.937...\n",
       "4     8260  [(2217027, 4.025911331176758), (17433, 3.95634..."
      ]
     },
     "execution_count": 75,
     "metadata": {},
     "output_type": "execute_result"
    }
   ],
   "source": [
    "#Movie Recommendations for all users from model1 approach\n",
    "\n",
    "pd_movieRecs = movieRecs.toPandas()\n",
    "\n",
    "pd_movieRecs.head()"
   ]
  },
  {
   "cell_type": "markdown",
   "metadata": {},
   "source": [
    "### Approach 2, maxIter = 10 , regParam = 0.01"
   ]
  },
  {
   "cell_type": "code",
   "execution_count": 76,
   "metadata": {},
   "outputs": [
    {
     "name": "stderr",
     "output_type": "stream",
     "text": [
      "[Stage 346:=====================================>               (140 + 8) / 200]"
     ]
    },
    {
     "name": "stdout",
     "output_type": "stream",
     "text": [
      "Mean squared error = 0.707801248481052\n",
      "Root-mean-square error = 0.8413092466394576\n"
     ]
    },
    {
     "name": "stderr",
     "output_type": "stream",
     "text": [
      "                                                                                \r"
     ]
    }
   ],
   "source": [
    "als = ALS(maxIter=10, regParam=0.01, userCol=\"userId\", itemCol=\"movieId\", ratingCol=\"ratings\",\n",
    "          coldStartStrategy=\"drop\")\n",
    "model2 = als.fit(df_training_join)\n",
    "\n",
    "\n",
    "\n",
    "# Evaluate the model by computing the RMSE on the test data\n",
    "predictions2 = model2.transform(df_testing_join)\n",
    "evaluator = RegressionEvaluator(metricName=\"mse\", labelCol=\"ratings\",\n",
    "                                predictionCol=\"prediction\")\n",
    "                                            \n",
    "evaluator1 = RegressionEvaluator(metricName=\"rmse\", labelCol=\"ratings\",\n",
    "                                predictionCol=\"prediction\")\n",
    "\n",
    "\n",
    "\n",
    "rmse = evaluator1.evaluate(predictions2)\n",
    "mse = evaluator.evaluate(predictions2)\n",
    "\n",
    "print(\"Mean squared error = \" + str(mse))\n",
    "print(\"Root-mean-square error = \" + str(rmse))"
   ]
  },
  {
   "cell_type": "code",
   "execution_count": null,
   "metadata": {},
   "outputs": [],
   "source": []
  },
  {
   "cell_type": "markdown",
   "metadata": {},
   "source": [
    "### With the parameters maxIter = 10 , regParam = 0.01, Root-mean-square error is 0.84 and Mean squared error is 0.70"
   ]
  },
  {
   "cell_type": "code",
   "execution_count": 77,
   "metadata": {},
   "outputs": [
    {
     "name": "stdout",
     "output_type": "stream",
     "text": [
      "+-------+-------+-------+-------------+--------------------+----------+\n",
      "|movieId| userId|ratings|yearOfRelease|               title|prediction|\n",
      "+-------+-------+-------+-------------+--------------------+----------+\n",
      "|      8| 573364|    1.0|         2004|What the #$*! Do ...|  3.603221|\n",
      "|      8|2149668|    3.0|         2004|What the #$*! Do ...| 3.4268858|\n",
      "|      8|1089184|    3.0|         2004|What the #$*! Do ...| 2.9583192|\n",
      "|      8|2465894|    3.0|         2004|What the #$*! Do ...| 2.0605848|\n",
      "|      8| 534508|    1.0|         2004|What the #$*! Do ...| 3.3053515|\n",
      "|      8| 992921|    4.0|         2004|What the #$*! Do ...| 2.5609016|\n",
      "|      8| 595054|    4.0|         2004|What the #$*! Do ...| 2.9920435|\n",
      "|      8|1298304|    4.0|         2004|What the #$*! Do ...| 3.3336272|\n",
      "|      8|1661600|    4.0|         2004|What the #$*! Do ...|  3.533973|\n",
      "|      8| 553787|    2.0|         2004|What the #$*! Do ...| 2.8933387|\n",
      "|      8|1309839|    3.0|         2004|What the #$*! Do ...|   2.59485|\n",
      "|      8| 727242|    1.0|         2004|What the #$*! Do ...| 1.1885912|\n",
      "|      8|1437668|    4.0|         2004|What the #$*! Do ...| 2.3924024|\n",
      "|      8|2170930|    1.0|         2004|What the #$*! Do ...| 0.9936313|\n",
      "|      8|1780876|    5.0|         2004|What the #$*! Do ...| 3.9943538|\n",
      "|      8|   9660|    3.0|         2004|What the #$*! Do ...|  2.900196|\n",
      "|      8|2379200|    4.0|         2004|What the #$*! Do ...| 2.5301127|\n",
      "|      8| 563186|    5.0|         2004|What the #$*! Do ...| 3.0350246|\n",
      "|      8|1539617|    4.0|         2004|What the #$*! Do ...| 3.0895817|\n",
      "|      8|1656839|    1.0|         2004|What the #$*! Do ...|  2.665298|\n",
      "+-------+-------+-------+-------------+--------------------+----------+\n",
      "only showing top 20 rows\n",
      "\n"
     ]
    }
   ],
   "source": [
    "predictions2.show()"
   ]
  },
  {
   "cell_type": "code",
   "execution_count": 78,
   "metadata": {},
   "outputs": [],
   "source": [
    "userRecs2 = model2.recommendForAllUsers(10)\n",
    "\n",
    "movieRecs2 = model2.recommendForAllItems(10)"
   ]
  },
  {
   "cell_type": "code",
   "execution_count": 79,
   "metadata": {},
   "outputs": [
    {
     "name": "stderr",
     "output_type": "stream",
     "text": [
      "[Stage 451:==================================================>   (93 + 7) / 100]"
     ]
    },
    {
     "name": "stdout",
     "output_type": "stream",
     "text": [
      "+------+--------------------+\n",
      "|userId|     recommendations|\n",
      "+------+--------------------+\n",
      "|   481|[[6991, 8.501338]...|\n",
      "|  2678|[[12952, 5.499856...|\n",
      "|  3595|[[13218, 5.915258...|\n",
      "|  6460|[[14089, 6.690787...|\n",
      "|  7284|[[13590, 7.343672...|\n",
      "|  7576|[[15567, 5.819330...|\n",
      "|  9597|[[13218, 4.753746...|\n",
      "| 15191|[[9854, 5.2554083...|\n",
      "| 15846|[[6991, 6.6622877...|\n",
      "| 20461|[[8657, 7.066132]...|\n",
      "| 20774|[[7806, 4.630245]...|\n",
      "| 26258|[[1951, 4.778234]...|\n",
      "| 27608|[[6991, 7.448291]...|\n",
      "| 28346|[[218, 5.2201567]...|\n",
      "| 30941|[[3329, 5.866767]...|\n",
      "| 30976|[[15480, 6.807095...|\n",
      "| 31203|[[12952, 7.428676...|\n",
      "| 36822|[[6287, 6.334367]...|\n",
      "| 40851|[[6991, 5.506755]...|\n",
      "| 41068|[[9854, 5.357501]...|\n",
      "+------+--------------------+\n",
      "only showing top 20 rows\n",
      "\n"
     ]
    },
    {
     "name": "stderr",
     "output_type": "stream",
     "text": [
      "                                                                                \r"
     ]
    }
   ],
   "source": [
    "userRecs2.show()"
   ]
  },
  {
   "cell_type": "code",
   "execution_count": 80,
   "metadata": {},
   "outputs": [
    {
     "name": "stderr",
     "output_type": "stream",
     "text": [
      "[Stage 502:============================================>         (82 + 8) / 100]"
     ]
    },
    {
     "name": "stdout",
     "output_type": "stream",
     "text": [
      "+-------+--------------------+\n",
      "|movieId|     recommendations|\n",
      "+-------+--------------------+\n",
      "|   4190|[[2302897, 7.1306...|\n",
      "|   3220|[[1596531, 5.8305...|\n",
      "|  11240|[[1987007, 8.1333...|\n",
      "|   6110|[[1874390, 5.3423...|\n",
      "|   8260|[[1987007, 6.7983...|\n",
      "|  16232|[[2567407, 5.1629...|\n",
      "|   9492|[[868600, 8.20525...|\n",
      "|    192|[[1358544, 6.7887...|\n",
      "|   9482|[[2049584, 6.1950...|\n",
      "|   6522|[[1658158, 8.0861...|\n",
      "|  10082|[[1360119, 5.1963...|\n",
      "|    122|[[1663569, 4.9832...|\n",
      "|  12184|[[36822, 5.925970...|\n",
      "|   9324|[[1256990, 5.7352...|\n",
      "|   8354|[[973133, 6.18460...|\n",
      "|   2366|[[27061, 5.272476...|\n",
      "|  12046|[[973133, 6.84727...|\n",
      "|  15216|[[2088784, 5.7237...|\n",
      "|  17196|[[794999, 5.33111...|\n",
      "|  14496|[[389739, 6.44611...|\n",
      "+-------+--------------------+\n",
      "only showing top 20 rows\n",
      "\n"
     ]
    },
    {
     "name": "stderr",
     "output_type": "stream",
     "text": [
      "                                                                                \r"
     ]
    }
   ],
   "source": [
    "movieRecs2.show()"
   ]
  },
  {
   "cell_type": "markdown",
   "metadata": {},
   "source": [
    "### From the above two model performances we can say the RMSE value is comparitively less when maxIter = 10 and regParam = 0.01. Hence this would be our best ALS model."
   ]
  },
  {
   "cell_type": "code",
   "execution_count": 98,
   "metadata": {},
   "outputs": [
    {
     "name": "stdout",
     "output_type": "stream",
     "text": [
      "My movie ratings:\n"
     ]
    },
    {
     "data": {
      "text/plain": [
       "DataFrame[movieId: bigint, userId: bigint, rating: bigint]"
      ]
     },
     "metadata": {},
     "output_type": "display_data"
    },
    {
     "name": "stdout",
     "output_type": "stream",
     "text": [
      "+-------+------+------+\n",
      "|movieId|userId|rating|\n",
      "+-------+------+------+\n",
      "|240    |0     |5     |\n",
      "|290    |1     |5     |\n",
      "|890    |2     |5     |\n",
      "|100    |3     |5     |\n",
      "|100    |4     |5     |\n",
      "|523    |5     |5     |\n",
      "|219    |6     |5     |\n",
      "|229    |7     |5     |\n",
      "|209    |8     |5     |\n",
      "|320    |9     |2     |\n",
      "+-------+------+------+\n",
      "\n"
     ]
    }
   ],
   "source": [
    "from pyspark.sql import Row\n",
    "my_user_id = 0\n",
    "\n",
    "# Note that the movie IDs are the last number on each line. A common error was to use the number of ratings as the movie ID.\n",
    "my_rated_movies = [\n",
    "          (240,0,5),\n",
    "     (290,1,5),\n",
    "     (890,2,5),\n",
    "     (100,3,5),\n",
    "     (100,4,5),\n",
    "     (523,5,5),\n",
    "     (219,6,5),\n",
    "     (229,7,5),\n",
    "     (209,8,5),\n",
    "     (320,9,2)\n",
    "     # The format of each line is (my_user_id, movie ID, your rating)\n",
    "     # For example, to give the movie \"Star Wars: Episode IV - A New Hope (1977)\" a five rating, you would add the following line:\n",
    "     #   (my_user_id, 260, 5),\n",
    "]\n",
    "\n",
    "my_ratings_df = sqlContext.createDataFrame(my_rated_movies, ['movieId','userId','rating'])\n",
    "print ('My movie ratings:')\n",
    "display(my_ratings_df.limit(10))\n",
    "my_ratings_df.show(10, truncate=False)"
   ]
  }
 ],
 "metadata": {
  "kernelspec": {
   "display_name": "Python 3",
   "language": "python",
   "name": "python3"
  },
  "language_info": {
   "codemirror_mode": {
    "name": "ipython",
    "version": 3
   },
   "file_extension": ".py",
   "mimetype": "text/x-python",
   "name": "python",
   "nbconvert_exporter": "python",
   "pygments_lexer": "ipython3",
   "version": "3.7.3"
  }
 },
 "nbformat": 4,
 "nbformat_minor": 4
}
